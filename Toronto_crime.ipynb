{
 "cells": [
  {
   "cell_type": "markdown",
   "id": "7db5e4c5",
   "metadata": {},
   "source": [
    "# crime reported in Toronto"
   ]
  },
  {
   "cell_type": "code",
   "execution_count": 11,
   "id": "4036e423",
   "metadata": {},
   "outputs": [],
   "source": [
    "import numpy as np\n",
    "import random \n",
    "import matplotlib.pyplot as plt\n",
    "import seaborn as sns\n",
    "import pandas as pd\n",
    "from sklearn.linear_model import LinearRegression\n",
    "import plotly.express as px\n",
    "import plotly.graph_objects as go"
   ]
  },
  {
   "cell_type": "code",
   "execution_count": 12,
   "id": "375cf465",
   "metadata": {},
   "outputs": [],
   "source": [
    "crime_in_toronto = pd.read_csv('C://Users//mande//OneDrive//Desktop/crime.csv')"
   ]
  },
  {
   "cell_type": "code",
   "execution_count": 13,
   "id": "20bad27d",
   "metadata": {},
   "outputs": [
    {
     "data": {
      "text/html": [
       "<div>\n",
       "<style scoped>\n",
       "    .dataframe tbody tr th:only-of-type {\n",
       "        vertical-align: middle;\n",
       "    }\n",
       "\n",
       "    .dataframe tbody tr th {\n",
       "        vertical-align: top;\n",
       "    }\n",
       "\n",
       "    .dataframe thead th {\n",
       "        text-align: right;\n",
       "    }\n",
       "</style>\n",
       "<table border=\"1\" class=\"dataframe\">\n",
       "  <thead>\n",
       "    <tr style=\"text-align: right;\">\n",
       "      <th></th>\n",
       "      <th>Index_</th>\n",
       "      <th>event_unique_id</th>\n",
       "      <th>Division</th>\n",
       "      <th>occurrencedate</th>\n",
       "      <th>reporteddate</th>\n",
       "      <th>location_type</th>\n",
       "      <th>premises_type</th>\n",
       "      <th>ucr_code</th>\n",
       "      <th>ucr_ext</th>\n",
       "      <th>offence</th>\n",
       "      <th>...</th>\n",
       "      <th>occurrencemonth</th>\n",
       "      <th>occurrenceday</th>\n",
       "      <th>occurrencedayofyear</th>\n",
       "      <th>occurrencedayofweek</th>\n",
       "      <th>occurrencehour</th>\n",
       "      <th>mci_category</th>\n",
       "      <th>Hood_ID</th>\n",
       "      <th>Neighbourhood</th>\n",
       "      <th>Longitude</th>\n",
       "      <th>Latitude</th>\n",
       "    </tr>\n",
       "  </thead>\n",
       "  <tbody>\n",
       "    <tr>\n",
       "      <th>0</th>\n",
       "      <td>246701</td>\n",
       "      <td>GO-20212596</td>\n",
       "      <td>D14</td>\n",
       "      <td>2021/01/01 05:00:00+00</td>\n",
       "      <td>2021/01/01 05:00:00+00</td>\n",
       "      <td>Apartment (Rooming House, Condo)</td>\n",
       "      <td>Apartment</td>\n",
       "      <td>1430</td>\n",
       "      <td>100</td>\n",
       "      <td>Assault</td>\n",
       "      <td>...</td>\n",
       "      <td>January</td>\n",
       "      <td>1</td>\n",
       "      <td>1</td>\n",
       "      <td>Friday</td>\n",
       "      <td>13</td>\n",
       "      <td>Assault</td>\n",
       "      <td>78</td>\n",
       "      <td>Kensington-Chinatown</td>\n",
       "      <td>-79.401107</td>\n",
       "      <td>43.652274</td>\n",
       "    </tr>\n",
       "    <tr>\n",
       "      <th>1</th>\n",
       "      <td>246702</td>\n",
       "      <td>GO-20211711</td>\n",
       "      <td>D52</td>\n",
       "      <td>2021/01/01 05:00:00+00</td>\n",
       "      <td>2021/01/01 05:00:00+00</td>\n",
       "      <td>Apartment (Rooming House, Condo)</td>\n",
       "      <td>Apartment</td>\n",
       "      <td>2120</td>\n",
       "      <td>200</td>\n",
       "      <td>B&amp;E</td>\n",
       "      <td>...</td>\n",
       "      <td>January</td>\n",
       "      <td>1</td>\n",
       "      <td>1</td>\n",
       "      <td>Friday</td>\n",
       "      <td>1</td>\n",
       "      <td>Break and Enter</td>\n",
       "      <td>76</td>\n",
       "      <td>Bay Street Corridor</td>\n",
       "      <td>-79.383726</td>\n",
       "      <td>43.655716</td>\n",
       "    </tr>\n",
       "    <tr>\n",
       "      <th>2</th>\n",
       "      <td>246703</td>\n",
       "      <td>GO-20212771</td>\n",
       "      <td>D31</td>\n",
       "      <td>2021/01/01 05:00:00+00</td>\n",
       "      <td>2021/01/01 05:00:00+00</td>\n",
       "      <td>Other Commercial / Corporate Places (For Profi...</td>\n",
       "      <td>Commercial</td>\n",
       "      <td>1610</td>\n",
       "      <td>200</td>\n",
       "      <td>Robbery - Mugging</td>\n",
       "      <td>...</td>\n",
       "      <td>January</td>\n",
       "      <td>1</td>\n",
       "      <td>1</td>\n",
       "      <td>Friday</td>\n",
       "      <td>13</td>\n",
       "      <td>Robbery</td>\n",
       "      <td>26</td>\n",
       "      <td>Downsview-Roding-CFB</td>\n",
       "      <td>-79.508595</td>\n",
       "      <td>43.720916</td>\n",
       "    </tr>\n",
       "    <tr>\n",
       "      <th>3</th>\n",
       "      <td>246704</td>\n",
       "      <td>GO-20212162</td>\n",
       "      <td>D41</td>\n",
       "      <td>2021/01/01 05:00:00+00</td>\n",
       "      <td>2021/01/01 05:00:00+00</td>\n",
       "      <td>Single Home, House (Attach Garage, Cottage, Mo...</td>\n",
       "      <td>House</td>\n",
       "      <td>1430</td>\n",
       "      <td>100</td>\n",
       "      <td>Assault</td>\n",
       "      <td>...</td>\n",
       "      <td>January</td>\n",
       "      <td>1</td>\n",
       "      <td>1</td>\n",
       "      <td>Friday</td>\n",
       "      <td>8</td>\n",
       "      <td>Assault</td>\n",
       "      <td>125</td>\n",
       "      <td>Ionview</td>\n",
       "      <td>-79.273833</td>\n",
       "      <td>43.725777</td>\n",
       "    </tr>\n",
       "    <tr>\n",
       "      <th>4</th>\n",
       "      <td>246912</td>\n",
       "      <td>GO-202118253</td>\n",
       "      <td>D13</td>\n",
       "      <td>2021/01/01 05:00:00+00</td>\n",
       "      <td>2021/01/04 05:00:00+00</td>\n",
       "      <td>Parking Lots (Apt., Commercial Or Non-Commercial)</td>\n",
       "      <td>Outside</td>\n",
       "      <td>1430</td>\n",
       "      <td>100</td>\n",
       "      <td>Assault</td>\n",
       "      <td>...</td>\n",
       "      <td>January</td>\n",
       "      <td>1</td>\n",
       "      <td>1</td>\n",
       "      <td>Friday</td>\n",
       "      <td>20</td>\n",
       "      <td>Assault</td>\n",
       "      <td>107</td>\n",
       "      <td>Oakwood Village</td>\n",
       "      <td>-79.447646</td>\n",
       "      <td>43.696259</td>\n",
       "    </tr>\n",
       "    <tr>\n",
       "      <th>...</th>\n",
       "      <td>...</td>\n",
       "      <td>...</td>\n",
       "      <td>...</td>\n",
       "      <td>...</td>\n",
       "      <td>...</td>\n",
       "      <td>...</td>\n",
       "      <td>...</td>\n",
       "      <td>...</td>\n",
       "      <td>...</td>\n",
       "      <td>...</td>\n",
       "      <td>...</td>\n",
       "      <td>...</td>\n",
       "      <td>...</td>\n",
       "      <td>...</td>\n",
       "      <td>...</td>\n",
       "      <td>...</td>\n",
       "      <td>...</td>\n",
       "      <td>...</td>\n",
       "      <td>...</td>\n",
       "      <td>...</td>\n",
       "      <td>...</td>\n",
       "    </tr>\n",
       "    <tr>\n",
       "      <th>34272</th>\n",
       "      <td>282132</td>\n",
       "      <td>GO-202229256</td>\n",
       "      <td>D13</td>\n",
       "      <td>2021/12/31 05:00:00+00</td>\n",
       "      <td>2022/01/05 05:00:00+00</td>\n",
       "      <td>Single Home, House (Attach Garage, Cottage, Mo...</td>\n",
       "      <td>House</td>\n",
       "      <td>2120</td>\n",
       "      <td>200</td>\n",
       "      <td>B&amp;E</td>\n",
       "      <td>...</td>\n",
       "      <td>December</td>\n",
       "      <td>31</td>\n",
       "      <td>365</td>\n",
       "      <td>Friday</td>\n",
       "      <td>13</td>\n",
       "      <td>Break and Enter</td>\n",
       "      <td>106</td>\n",
       "      <td>Humewood-Cedarvale</td>\n",
       "      <td>-79.426842</td>\n",
       "      <td>43.683309</td>\n",
       "    </tr>\n",
       "    <tr>\n",
       "      <th>34273</th>\n",
       "      <td>282766</td>\n",
       "      <td>GO-202275159</td>\n",
       "      <td>D23</td>\n",
       "      <td>2021/12/31 05:00:00+00</td>\n",
       "      <td>2022/01/12 05:00:00+00</td>\n",
       "      <td>Parking Lots (Apt., Commercial Or Non-Commercial)</td>\n",
       "      <td>Outside</td>\n",
       "      <td>2132</td>\n",
       "      <td>200</td>\n",
       "      <td>Theft From Motor Vehicle Over</td>\n",
       "      <td>...</td>\n",
       "      <td>December</td>\n",
       "      <td>31</td>\n",
       "      <td>365</td>\n",
       "      <td>Friday</td>\n",
       "      <td>17</td>\n",
       "      <td>Theft Over</td>\n",
       "      <td>9</td>\n",
       "      <td>Edenbridge-Humber Valley</td>\n",
       "      <td>-79.512447</td>\n",
       "      <td>43.685515</td>\n",
       "    </tr>\n",
       "    <tr>\n",
       "      <th>34274</th>\n",
       "      <td>283686</td>\n",
       "      <td>GO-2022148021</td>\n",
       "      <td>D51</td>\n",
       "      <td>2021/12/31 05:00:00+00</td>\n",
       "      <td>2022/01/23 05:00:00+00</td>\n",
       "      <td>Streets, Roads, Highways (Bicycle Path, Privat...</td>\n",
       "      <td>Outside</td>\n",
       "      <td>2135</td>\n",
       "      <td>210</td>\n",
       "      <td>Theft Of Motor Vehicle</td>\n",
       "      <td>...</td>\n",
       "      <td>December</td>\n",
       "      <td>31</td>\n",
       "      <td>365</td>\n",
       "      <td>Friday</td>\n",
       "      <td>22</td>\n",
       "      <td>Auto Theft</td>\n",
       "      <td>77</td>\n",
       "      <td>Waterfront Communities-The Island</td>\n",
       "      <td>-79.368879</td>\n",
       "      <td>43.649733</td>\n",
       "    </tr>\n",
       "    <tr>\n",
       "      <th>34275</th>\n",
       "      <td>285725</td>\n",
       "      <td>GO-2022293985</td>\n",
       "      <td>D33</td>\n",
       "      <td>2021/12/31 05:00:00+00</td>\n",
       "      <td>2022/02/14 05:00:00+00</td>\n",
       "      <td>Apartment (Rooming House, Condo)</td>\n",
       "      <td>Apartment</td>\n",
       "      <td>2130</td>\n",
       "      <td>210</td>\n",
       "      <td>Theft Over</td>\n",
       "      <td>...</td>\n",
       "      <td>December</td>\n",
       "      <td>31</td>\n",
       "      <td>365</td>\n",
       "      <td>Friday</td>\n",
       "      <td>0</td>\n",
       "      <td>Theft Over</td>\n",
       "      <td>46</td>\n",
       "      <td>Pleasant View</td>\n",
       "      <td>-79.325354</td>\n",
       "      <td>43.780352</td>\n",
       "    </tr>\n",
       "    <tr>\n",
       "      <th>34276</th>\n",
       "      <td>287576</td>\n",
       "      <td>GO-2022410748</td>\n",
       "      <td>D55</td>\n",
       "      <td>2021/12/31 05:00:00+00</td>\n",
       "      <td>2022/03/04 05:00:00+00</td>\n",
       "      <td>Single Home, House (Attach Garage, Cottage, Mo...</td>\n",
       "      <td>House</td>\n",
       "      <td>2130</td>\n",
       "      <td>200</td>\n",
       "      <td>Theft From Mail / Bag / Key</td>\n",
       "      <td>...</td>\n",
       "      <td>December</td>\n",
       "      <td>31</td>\n",
       "      <td>365</td>\n",
       "      <td>Friday</td>\n",
       "      <td>0</td>\n",
       "      <td>Theft Over</td>\n",
       "      <td>57</td>\n",
       "      <td>Broadview North</td>\n",
       "      <td>-79.348775</td>\n",
       "      <td>43.689433</td>\n",
       "    </tr>\n",
       "  </tbody>\n",
       "</table>\n",
       "<p>34277 rows × 27 columns</p>\n",
       "</div>"
      ],
      "text/plain": [
       "       Index_ event_unique_id Division          occurrencedate  \\\n",
       "0      246701     GO-20212596      D14  2021/01/01 05:00:00+00   \n",
       "1      246702     GO-20211711      D52  2021/01/01 05:00:00+00   \n",
       "2      246703     GO-20212771      D31  2021/01/01 05:00:00+00   \n",
       "3      246704     GO-20212162      D41  2021/01/01 05:00:00+00   \n",
       "4      246912    GO-202118253      D13  2021/01/01 05:00:00+00   \n",
       "...       ...             ...      ...                     ...   \n",
       "34272  282132    GO-202229256      D13  2021/12/31 05:00:00+00   \n",
       "34273  282766    GO-202275159      D23  2021/12/31 05:00:00+00   \n",
       "34274  283686   GO-2022148021      D51  2021/12/31 05:00:00+00   \n",
       "34275  285725   GO-2022293985      D33  2021/12/31 05:00:00+00   \n",
       "34276  287576   GO-2022410748      D55  2021/12/31 05:00:00+00   \n",
       "\n",
       "                 reporteddate  \\\n",
       "0      2021/01/01 05:00:00+00   \n",
       "1      2021/01/01 05:00:00+00   \n",
       "2      2021/01/01 05:00:00+00   \n",
       "3      2021/01/01 05:00:00+00   \n",
       "4      2021/01/04 05:00:00+00   \n",
       "...                       ...   \n",
       "34272  2022/01/05 05:00:00+00   \n",
       "34273  2022/01/12 05:00:00+00   \n",
       "34274  2022/01/23 05:00:00+00   \n",
       "34275  2022/02/14 05:00:00+00   \n",
       "34276  2022/03/04 05:00:00+00   \n",
       "\n",
       "                                           location_type premises_type  \\\n",
       "0                       Apartment (Rooming House, Condo)     Apartment   \n",
       "1                       Apartment (Rooming House, Condo)     Apartment   \n",
       "2      Other Commercial / Corporate Places (For Profi...    Commercial   \n",
       "3      Single Home, House (Attach Garage, Cottage, Mo...         House   \n",
       "4      Parking Lots (Apt., Commercial Or Non-Commercial)       Outside   \n",
       "...                                                  ...           ...   \n",
       "34272  Single Home, House (Attach Garage, Cottage, Mo...         House   \n",
       "34273  Parking Lots (Apt., Commercial Or Non-Commercial)       Outside   \n",
       "34274  Streets, Roads, Highways (Bicycle Path, Privat...       Outside   \n",
       "34275                   Apartment (Rooming House, Condo)     Apartment   \n",
       "34276  Single Home, House (Attach Garage, Cottage, Mo...         House   \n",
       "\n",
       "       ucr_code  ucr_ext                        offence  ...  occurrencemonth  \\\n",
       "0          1430      100                        Assault  ...          January   \n",
       "1          2120      200                            B&E  ...          January   \n",
       "2          1610      200              Robbery - Mugging  ...          January   \n",
       "3          1430      100                        Assault  ...          January   \n",
       "4          1430      100                        Assault  ...          January   \n",
       "...         ...      ...                            ...  ...              ...   \n",
       "34272      2120      200                            B&E  ...         December   \n",
       "34273      2132      200  Theft From Motor Vehicle Over  ...         December   \n",
       "34274      2135      210         Theft Of Motor Vehicle  ...         December   \n",
       "34275      2130      210                     Theft Over  ...         December   \n",
       "34276      2130      200    Theft From Mail / Bag / Key  ...         December   \n",
       "\n",
       "      occurrenceday  occurrencedayofyear  occurrencedayofweek occurrencehour  \\\n",
       "0                 1                    1           Friday                 13   \n",
       "1                 1                    1           Friday                  1   \n",
       "2                 1                    1           Friday                 13   \n",
       "3                 1                    1           Friday                  8   \n",
       "4                 1                    1           Friday                 20   \n",
       "...             ...                  ...                  ...            ...   \n",
       "34272            31                  365           Friday                 13   \n",
       "34273            31                  365           Friday                 17   \n",
       "34274            31                  365           Friday                 22   \n",
       "34275            31                  365           Friday                  0   \n",
       "34276            31                  365           Friday                  0   \n",
       "\n",
       "          mci_category  Hood_ID                      Neighbourhood  Longitude  \\\n",
       "0              Assault       78               Kensington-Chinatown -79.401107   \n",
       "1      Break and Enter       76                Bay Street Corridor -79.383726   \n",
       "2              Robbery       26               Downsview-Roding-CFB -79.508595   \n",
       "3              Assault      125                            Ionview -79.273833   \n",
       "4              Assault      107                    Oakwood Village -79.447646   \n",
       "...                ...      ...                                ...        ...   \n",
       "34272  Break and Enter      106                 Humewood-Cedarvale -79.426842   \n",
       "34273       Theft Over        9           Edenbridge-Humber Valley -79.512447   \n",
       "34274       Auto Theft       77  Waterfront Communities-The Island -79.368879   \n",
       "34275       Theft Over       46                      Pleasant View -79.325354   \n",
       "34276       Theft Over       57                    Broadview North -79.348775   \n",
       "\n",
       "        Latitude  \n",
       "0      43.652274  \n",
       "1      43.655716  \n",
       "2      43.720916  \n",
       "3      43.725777  \n",
       "4      43.696259  \n",
       "...          ...  \n",
       "34272  43.683309  \n",
       "34273  43.685515  \n",
       "34274  43.649733  \n",
       "34275  43.780352  \n",
       "34276  43.689433  \n",
       "\n",
       "[34277 rows x 27 columns]"
      ]
     },
     "execution_count": 13,
     "metadata": {},
     "output_type": "execute_result"
    }
   ],
   "source": [
    "df= pd.DataFrame(crime_in_toronto)\n",
    "df"
   ]
  },
  {
   "cell_type": "markdown",
   "id": "6f555561",
   "metadata": {},
   "source": [
    "# crime in different locations "
   ]
  },
  {
   "cell_type": "markdown",
   "id": "3d5b1bfc",
   "metadata": {},
   "source": [
    "In 2021, 34,277 recorded cases in Toronto, illustrating the city's.In 2021, there will be 34,277 recorded cases in Toronto"
   ]
  },
  {
   "cell_type": "code",
   "execution_count": 14,
   "id": "fa7e66db",
   "metadata": {},
   "outputs": [
    {
     "data": {
      "text/plain": [
       "array(['Apartment', 'Commercial', 'House', 'Outside', 'Transit', 'Other',\n",
       "       'Educational'], dtype=object)"
      ]
     },
     "execution_count": 14,
     "metadata": {},
     "output_type": "execute_result"
    }
   ],
   "source": [
    "type1 = df['premises_type'].unique()\n",
    "type1"
   ]
  },
  {
   "cell_type": "code",
   "execution_count": 15,
   "id": "535a9f0e",
   "metadata": {},
   "outputs": [],
   "source": [
    "Commercial= df[df['premises_type']== 'Commercial'].count()\n",
    "House_crime= df[df['premises_type']== 'House'].count()\n",
    "Outside_crime=df[df['premises_type']== 'Outside'].count()\n",
    "Transit_crime=df[df['premises_type']== 'Transit'].count()\n",
    "other_crime=df[df['premises_type']== 'Other'].count()\n",
    "Educational_crime=df[df['premises_type']== 'Educational'].count()"
   ]
  },
  {
   "cell_type": "code",
   "execution_count": 63,
   "id": "0cd8cd2a",
   "metadata": {},
   "outputs": [
    {
     "data": {
      "image/png": "[encoded data removed]",
      "text/plain": [
       "<Figure size 576x432 with 1 Axes>"
      ]
     },
     "metadata": {},
     "output_type": "display_data"
    }
   ],
   "source": [
    "# Count premises type\n",
    "commercial_crime = df[df['premises_type'] == 'Commercial'].count()['event_unique_id']\n",
    "house_crime = df[df['premises_type'] == 'House'].count()['event_unique_id']\n",
    "outside_crime = df[df['premises_type'] == 'Outside'].count()['event_unique_id']\n",
    "transit_crime = df[df['premises_type'] == 'Transit'].count()['event_unique_id']\n",
    "other_crime = df[df['premises_type'] == 'Other'].count()['event_unique_id']\n",
    "educational_crime = df[df['premises_type'] == 'Educational'].count()['event_unique_id']\n",
    "\n",
    "# Create a DataFrame\n",
    "data = pd.DataFrame({\n",
    "    'Premises Type': ['Commercial', 'House', 'Outside', 'Transit', 'Other', 'Educational'],\n",
    "    'Count': [commercial_crime, house_crime, outside_crime, transit_crime, other_crime, educational_crime]\n",
    "})\n",
    "\n",
    "# Create a pie chart using Seaborn\n",
    "plt.figure(figsize=(8, 6))\n",
    "sns.set(style=\"whitegrid\")\n",
    "sns.barplot(data=data, x='Premises Type', y='Count', palette='viridis')\n",
    "plt.title('Crime Distribution by Premises Type')\n",
    "plt.xlabel('Premises Type')\n",
    "plt.ylabel('Count')\n",
    "plt.xticks(rotation=45, ha='right')\n",
    "plt.tight_layout()\n",
    "plt.show()\n"
   ]
  },
  {
   "cell_type": "markdown",
   "id": "ed174eae",
   "metadata": {},
   "source": [
    "According to the data, outdoor places have the largest number of crimes (9402 incidents), \n",
    "need for greater safety measures in publicspaces. Each year, around 6000 crimes occur in commercial \n",
    "and residential sectors, underscoring the significance of security in both commercial and domestic places.\n",
    "There are 1156 crimes reported in transit places, compared to around 2000 crimes reported in other undefined areas.\n",
    "These findings point to the necessity for specific tactics to combat crime in various situations and assure community \n",
    "safety generally."
   ]
  },
  {
   "cell_type": "markdown",
   "id": "a04bc84e",
   "metadata": {},
   "source": [
    "# offence\t"
   ]
  },
  {
   "cell_type": "code",
   "execution_count": 17,
   "id": "c6e8cf6b",
   "metadata": {},
   "outputs": [],
   "source": [
    "type_offence = df['offence'].unique()"
   ]
  },
  {
   "cell_type": "code",
   "execution_count": 18,
   "id": "aebefe1d",
   "metadata": {},
   "outputs": [
    {
     "name": "stdout",
     "output_type": "stream",
     "text": [
      "Assault: 12737 cases (37.16%)\n",
      "Theft Of Motor Vehicle: 6541 cases (19.08%)\n",
      "B&E: 4846 cases (14.14%)\n",
      "Assault With Weapon: 3377 cases (9.85%)\n",
      "Assault Bodily Harm: 675 cases (1.97%)\n",
      "B&E W'Intent: 653 cases (1.91%)\n",
      "Assault Peace Officer: 579 cases (1.69%)\n",
      "Theft Over: 530 cases (1.55%)\n",
      "Robbery - Mugging: 491 cases (1.43%)\n",
      "Robbery - Business: 480 cases (1.40%)\n",
      "Robbery - Other: 473 cases (1.38%)\n",
      "Robbery With Weapon: 381 cases (1.11%)\n",
      "Theft From Motor Vehicle Over: 312 cases (0.91%)\n",
      "Discharge Firearm With Intent: 263 cases (0.77%)\n",
      "Aggravated Assault: 237 cases (0.69%)\n",
      "Assault - Resist/ Prevent Seiz: 236 cases (0.69%)\n",
      "Unlawfully In Dwelling-House: 209 cases (0.61%)\n",
      "Discharge Firearm - Recklessly: 181 cases (0.53%)\n",
      "Theft From Mail / Bag / Key: 160 cases (0.47%)\n",
      "Pointing A Firearm: 146 cases (0.43%)\n",
      "Robbery - Vehicle Jacking: 125 cases (0.36%)\n",
      "Assault Peace Officer Wpn/Cbh: 92 cases (0.27%)\n",
      "Robbery - Swarming: 91 cases (0.27%)\n",
      "Robbery - Home Invasion: 90 cases (0.26%)\n",
      "Robbery - Purse Snatch: 67 cases (0.20%)\n",
      "Administering Noxious Thing: 61 cases (0.18%)\n",
      "Robbery - Financial Institute: 47 cases (0.14%)\n",
      "Assault - Force/Thrt/Impede: 41 cases (0.12%)\n",
      "Theft Over - Shoplifting: 38 cases (0.11%)\n",
      "Theft Over - Bicycle: 15 cases (0.04%)\n",
      "Disarming Peace/Public Officer: 13 cases (0.04%)\n",
      "Robbery - Atm: 12 cases (0.04%)\n",
      "Use Firearm / Immit Commit Off: 12 cases (0.04%)\n",
      "Robbery - Delivery Person: 11 cases (0.03%)\n",
      "Theft Over - Distraction: 10 cases (0.03%)\n",
      "B&E Out: 9 cases (0.03%)\n",
      "Robbery - Taxi: 7 cases (0.02%)\n",
      "Crim Negligence Bodily Harm: 6 cases (0.02%)\n",
      "Aggravated Aslt Peace Officer: 5 cases (0.01%)\n",
      "Air Gun Or Pistol: Bodily Harm: 4 cases (0.01%)\n",
      "Robbery - Armoured Car: 4 cases (0.01%)\n",
      "Aggravated Assault Avails Pros: 4 cases (0.01%)\n",
      "Theft - Misapprop Funds Over: 2 cases (0.01%)\n",
      "Robbery To Steal Firearm: 1 cases (0.00%)\n",
      "Traps Likely Cause Bodily Harm: 1 cases (0.00%)\n",
      "Theft Of Utilities Over: 1 cases (0.00%)\n",
      "Set/Place Trap/Intend Death/Bh: 1 cases (0.00%)\n"
     ]
    }
   ],
   "source": [
    "# Count the occurrences of each offence type\n",
    "offence_counts = df['offence'].value_counts().reset_index()\n",
    "\n",
    "# Rename the columns\n",
    "offence_counts.columns = ['Offence Type', 'Count']\n",
    "\n",
    "# Sort the offences based on count in descending order\n",
    "offence_counts = offence_counts.sort_values('Count', ascending=False)\n",
    "\n",
    "# Calculate the total number of offences\n",
    "total_offences = len(df)\n",
    "\n",
    "# Calculate the percentage of each offence type\n",
    "offence_percentages = (offence_counts['Count'] / total_offences) * 100\n",
    "\n",
    "# Create a summary list\n",
    "summary_list = []\n",
    "for index, row in offence_counts.iterrows():\n",
    "    offence_type = row['Offence Type']\n",
    "    count = row['Count']\n",
    "    percentage = offence_percentages[index]\n",
    "    summary = f\"{offence_type}: {count} cases ({percentage:.2f}%)\"\n",
    "    summary_list.append(summary)\n",
    "# Print the summary list\n",
    "for summary in summary_list:\n",
    "    print(summary)"
   ]
  },
  {
   "cell_type": "markdown",
   "id": "af796e9b",
   "metadata": {},
   "source": [
    "Based on the statistics supplied, the distribution of crime in Toronto reveals interesting tendencies. Assault is the most common infraction, accounting for 37.16% of all instances, closely followed by Theft of Motor Vehicle (19.08%). Break and Enter comes third, accounting for 14.14% of all instances. Robbery of various categories, such as Robbery - Mugging, Robbery - Business, and Robbery - Other, account for around 1% of the total. While other acts have lower numbers, they nonetheless reflect the city's range of criminal activity. It is crucial to highlight that this research is only a snapshot and may not represent the entire criminal environment. For a complete understanding of crime patterns in Toronto, additional information such as temporal and geographical elements are required."
   ]
  },
  {
   "cell_type": "markdown",
   "id": "b7020135",
   "metadata": {},
   "source": [
    "# occurrencemonth"
   ]
  },
  {
   "cell_type": "code",
   "execution_count": 19,
   "id": "cb70634d",
   "metadata": {},
   "outputs": [
    {
     "data": {
      "text/html": [
       "<div>\n",
       "<style scoped>\n",
       "    .dataframe tbody tr th:only-of-type {\n",
       "        vertical-align: middle;\n",
       "    }\n",
       "\n",
       "    .dataframe tbody tr th {\n",
       "        vertical-align: top;\n",
       "    }\n",
       "\n",
       "    .dataframe thead th {\n",
       "        text-align: right;\n",
       "    }\n",
       "</style>\n",
       "<table border=\"1\" class=\"dataframe\">\n",
       "  <thead>\n",
       "    <tr style=\"text-align: right;\">\n",
       "      <th></th>\n",
       "      <th>occurrencemonth</th>\n",
       "      <th>Count</th>\n",
       "    </tr>\n",
       "  </thead>\n",
       "  <tbody>\n",
       "    <tr>\n",
       "      <th>0</th>\n",
       "      <td>April</td>\n",
       "      <td>2378</td>\n",
       "    </tr>\n",
       "    <tr>\n",
       "      <th>1</th>\n",
       "      <td>August</td>\n",
       "      <td>3235</td>\n",
       "    </tr>\n",
       "    <tr>\n",
       "      <th>2</th>\n",
       "      <td>December</td>\n",
       "      <td>2930</td>\n",
       "    </tr>\n",
       "    <tr>\n",
       "      <th>3</th>\n",
       "      <td>February</td>\n",
       "      <td>2226</td>\n",
       "    </tr>\n",
       "    <tr>\n",
       "      <th>4</th>\n",
       "      <td>January</td>\n",
       "      <td>2574</td>\n",
       "    </tr>\n",
       "    <tr>\n",
       "      <th>5</th>\n",
       "      <td>July</td>\n",
       "      <td>3024</td>\n",
       "    </tr>\n",
       "    <tr>\n",
       "      <th>6</th>\n",
       "      <td>June</td>\n",
       "      <td>2931</td>\n",
       "    </tr>\n",
       "    <tr>\n",
       "      <th>7</th>\n",
       "      <td>March</td>\n",
       "      <td>2548</td>\n",
       "    </tr>\n",
       "    <tr>\n",
       "      <th>8</th>\n",
       "      <td>May</td>\n",
       "      <td>2978</td>\n",
       "    </tr>\n",
       "    <tr>\n",
       "      <th>9</th>\n",
       "      <td>November</td>\n",
       "      <td>3019</td>\n",
       "    </tr>\n",
       "    <tr>\n",
       "      <th>10</th>\n",
       "      <td>October</td>\n",
       "      <td>3297</td>\n",
       "    </tr>\n",
       "    <tr>\n",
       "      <th>11</th>\n",
       "      <td>September</td>\n",
       "      <td>3137</td>\n",
       "    </tr>\n",
       "  </tbody>\n",
       "</table>\n",
       "</div>"
      ],
      "text/plain": [
       "   occurrencemonth  Count\n",
       "0            April   2378\n",
       "1           August   3235\n",
       "2         December   2930\n",
       "3         February   2226\n",
       "4          January   2574\n",
       "5             July   3024\n",
       "6             June   2931\n",
       "7            March   2548\n",
       "8              May   2978\n",
       "9         November   3019\n",
       "10         October   3297\n",
       "11       September   3137"
      ]
     },
     "execution_count": 19,
     "metadata": {},
     "output_type": "execute_result"
    }
   ],
   "source": [
    "# Group the data by month and count \n",
    "monthly_counts = df.groupby('occurrencemonth').size().reset_index(name='Count')\n",
    "monthly_counts"
   ]
  },
  {
   "cell_type": "markdown",
   "id": "29ea6e0f",
   "metadata": {},
   "source": [
    "# mamximum crime can be seen in oct,followed by sept, where as least can we seen april and feb "
   ]
  },
  {
   "cell_type": "code",
   "execution_count": 27,
   "id": "6fb4f30b",
   "metadata": {},
   "outputs": [],
   "source": [
    "# order of the months\n",
    "month_order = ['January', 'February', 'March', 'April', 'May', 'June', 'July', 'August', 'September', 'October', 'November', 'December']"
   ]
  },
  {
   "cell_type": "code",
   "execution_count": 53,
   "id": "ddf477a4",
   "metadata": {},
   "outputs": [
    {
     "data": {
      "application/vnd.plotly.v1+json": {
       "config": {
        "plotlyServerURL": "https://plot.ly"
       },
       "data": [
        {
         "hovertemplate": "occurrencemonth=%{x}<br>Count=%{y}<extra></extra>",
         "legendgroup": "",
         "line": {
          "color": "#636efa",
          "dash": "solid"
         },
         "marker": {
          "symbol": "circle"
         },
         "mode": "lines",
         "name": "",
         "orientation": "v",
         "showlegend": false,
         "type": "scatter",
         "x": [
          "January",
          "February",
          "March",
          "April",
          "May",
          "June",
          "July",
          "August",
          "September",
          "October",
          "November",
          "December"
         ],
         "xaxis": "x",
         "y": [
          2574,
          2226,
          2548,
          2378,
          2978,
          2931,
          3024,
          3235,
          3137,
          3297,
          3019,
          2930
         ],
         "yaxis": "y"
        }
       ],
       "layout": {
        "legend": {
         "tracegroupgap": 0
        },
        "template": {
         "data": {
          "bar": [
           {
            "error_x": {
             "color": "#2a3f5f"
            },
            "error_y": {
             "color": "#2a3f5f"
            },
            "marker": {
             "line": {
              "color": "#E5ECF6",
              "width": 0.5
             },
             "pattern": {
              "fillmode": "overlay",
              "size": 10,
              "solidity": 0.2
             }
            },
            "type": "bar"
           }
          ],
          "barpolar": [
           {
            "marker": {
             "line": {
              "color": "#E5ECF6",
              "width": 0.5
             },
             "pattern": {
              "fillmode": "overlay",
              "size": 10,
              "solidity": 0.2
             }
            },
            "type": "barpolar"
           }
          ],
          "carpet": [
           {
            "aaxis": {
             "endlinecolor": "#2a3f5f",
             "gridcolor": "white",
             "linecolor": "white",
             "minorgridcolor": "white",
             "startlinecolor": "#2a3f5f"
            },
            "baxis": {
             "endlinecolor": "#2a3f5f",
             "gridcolor": "white",
             "linecolor": "white",
             "minorgridcolor": "white",
             "startlinecolor": "#2a3f5f"
            },
            "type": "carpet"
           }
          ],
          "choropleth": [
           {
            "colorbar": {
             "outlinewidth": 0,
             "ticks": ""
            },
            "type": "choropleth"
           }
          ],
          "contour": [
           {
            "colorbar": {
             "outlinewidth": 0,
             "ticks": ""
            },
            "colorscale": [
             [
              0,
              "#0d0887"
             ],
             [
              0.1111111111111111,
              "#46039f"
             ],
             [
              0.2222222222222222,
              "#7201a8"
             ],
             [
              0.3333333333333333,
              "#9c179e"
             ],
             [
              0.4444444444444444,
              "#bd3786"
             ],
             [
              0.5555555555555556,
              "#d8576b"
             ],
             [
              0.6666666666666666,
              "#ed7953"
             ],
             [
              0.7777777777777778,
              "#fb9f3a"
             ],
             [
              0.8888888888888888,
              "#fdca26"
             ],
             [
              1,
              "#f0f921"
             ]
            ],
            "type": "contour"
           }
          ],
          "contourcarpet": [
           {
            "colorbar": {
             "outlinewidth": 0,
             "ticks": ""
            },
            "type": "contourcarpet"
           }
          ],
          "heatmap": [
           {
            "colorbar": {
             "outlinewidth": 0,
             "ticks": ""
            },
            "colorscale": [
             [
              0,
              "#0d0887"
             ],
             [
              0.1111111111111111,
              "#46039f"
             ],
             [
              0.2222222222222222,
              "#7201a8"
             ],
             [
              0.3333333333333333,
              "#9c179e"
             ],
             [
              0.4444444444444444,
              "#bd3786"
             ],
             [
              0.5555555555555556,
              "#d8576b"
             ],
             [
              0.6666666666666666,
              "#ed7953"
             ],
             [
              0.7777777777777778,
              "#fb9f3a"
             ],
             [
              0.8888888888888888,
              "#fdca26"
             ],
             [
              1,
              "#f0f921"
             ]
            ],
            "type": "heatmap"
           }
          ],
          "heatmapgl": [
           {
            "colorbar": {
             "outlinewidth": 0,
             "ticks": ""
            },
            "colorscale": [
             [
              0,
              "#0d0887"
             ],
             [
              0.1111111111111111,
              "#46039f"
             ],
             [
              0.2222222222222222,
              "#7201a8"
             ],
             [
              0.3333333333333333,
              "#9c179e"
             ],
             [
              0.4444444444444444,
              "#bd3786"
             ],
             [
              0.5555555555555556,
              "#d8576b"
             ],
             [
              0.6666666666666666,
              "#ed7953"
             ],
             [
              0.7777777777777778,
              "#fb9f3a"
             ],
             [
              0.8888888888888888,
              "#fdca26"
             ],
             [
              1,
              "#f0f921"
             ]
            ],
            "type": "heatmapgl"
           }
          ],
          "histogram": [
           {
            "marker": {
             "pattern": {
              "fillmode": "overlay",
              "size": 10,
              "solidity": 0.2
             }
            },
            "type": "histogram"
           }
          ],
          "histogram2d": [
           {
            "colorbar": {
             "outlinewidth": 0,
             "ticks": ""
            },
            "colorscale": [
             [
              0,
              "#0d0887"
             ],
             [
              0.1111111111111111,
              "#46039f"
             ],
             [
              0.2222222222222222,
              "#7201a8"
             ],
             [
              0.3333333333333333,
              "#9c179e"
             ],
             [
              0.4444444444444444,
              "#bd3786"
             ],
             [
              0.5555555555555556,
              "#d8576b"
             ],
             [
              0.6666666666666666,
              "#ed7953"
             ],
             [
              0.7777777777777778,
              "#fb9f3a"
             ],
             [
              0.8888888888888888,
              "#fdca26"
             ],
             [
              1,
              "#f0f921"
             ]
            ],
            "type": "histogram2d"
           }
          ],
          "histogram2dcontour": [
           {
            "colorbar": {
             "outlinewidth": 0,
             "ticks": ""
            },
            "colorscale": [
             [
              0,
              "#0d0887"
             ],
             [
              0.1111111111111111,
              "#46039f"
             ],
             [
              0.2222222222222222,
              "#7201a8"
             ],
             [
              0.3333333333333333,
              "#9c179e"
             ],
             [
              0.4444444444444444,
              "#bd3786"
             ],
             [
              0.5555555555555556,
              "#d8576b"
             ],
             [
              0.6666666666666666,
              "#ed7953"
             ],
             [
              0.7777777777777778,
              "#fb9f3a"
             ],
             [
              0.8888888888888888,
              "#fdca26"
             ],
             [
              1,
              "#f0f921"
             ]
            ],
            "type": "histogram2dcontour"
           }
          ],
          "mesh3d": [
           {
            "colorbar": {
             "outlinewidth": 0,
             "ticks": ""
            },
            "type": "mesh3d"
           }
          ],
          "parcoords": [
           {
            "line": {
             "colorbar": {
              "outlinewidth": 0,
              "ticks": ""
             }
            },
            "type": "parcoords"
           }
          ],
          "pie": [
           {
            "automargin": true,
            "type": "pie"
           }
          ],
          "scatter": [
           {
            "marker": {
             "colorbar": {
              "outlinewidth": 0,
              "ticks": ""
             }
            },
            "type": "scatter"
           }
          ],
          "scatter3d": [
           {
            "line": {
             "colorbar": {
              "outlinewidth": 0,
              "ticks": ""
             }
            },
            "marker": {
             "colorbar": {
              "outlinewidth": 0,
              "ticks": ""
             }
            },
            "type": "scatter3d"
           }
          ],
          "scattercarpet": [
           {
            "marker": {
             "colorbar": {
              "outlinewidth": 0,
              "ticks": ""
             }
            },
            "type": "scattercarpet"
           }
          ],
          "scattergeo": [
           {
            "marker": {
             "colorbar": {
              "outlinewidth": 0,
              "ticks": ""
             }
            },
            "type": "scattergeo"
           }
          ],
          "scattergl": [
           {
            "marker": {
             "colorbar": {
              "outlinewidth": 0,
              "ticks": ""
             }
            },
            "type": "scattergl"
           }
          ],
          "scattermapbox": [
           {
            "marker": {
             "colorbar": {
              "outlinewidth": 0,
              "ticks": ""
             }
            },
            "type": "scattermapbox"
           }
          ],
          "scatterpolar": [
           {
            "marker": {
             "colorbar": {
              "outlinewidth": 0,
              "ticks": ""
             }
            },
            "type": "scatterpolar"
           }
          ],
          "scatterpolargl": [
           {
            "marker": {
             "colorbar": {
              "outlinewidth": 0,
              "ticks": ""
             }
            },
            "type": "scatterpolargl"
           }
          ],
          "scatterternary": [
           {
            "marker": {
             "colorbar": {
              "outlinewidth": 0,
              "ticks": ""
             }
            },
            "type": "scatterternary"
           }
          ],
          "surface": [
           {
            "colorbar": {
             "outlinewidth": 0,
             "ticks": ""
            },
            "colorscale": [
             [
              0,
              "#0d0887"
             ],
             [
              0.1111111111111111,
              "#46039f"
             ],
             [
              0.2222222222222222,
              "#7201a8"
             ],
             [
              0.3333333333333333,
              "#9c179e"
             ],
             [
              0.4444444444444444,
              "#bd3786"
             ],
             [
              0.5555555555555556,
              "#d8576b"
             ],
             [
              0.6666666666666666,
              "#ed7953"
             ],
             [
              0.7777777777777778,
              "#fb9f3a"
             ],
             [
              0.8888888888888888,
              "#fdca26"
             ],
             [
              1,
              "#f0f921"
             ]
            ],
            "type": "surface"
           }
          ],
          "table": [
           {
            "cells": {
             "fill": {
              "color": "#EBF0F8"
             },
             "line": {
              "color": "white"
             }
            },
            "header": {
             "fill": {
              "color": "#C8D4E3"
             },
             "line": {
              "color": "white"
             }
            },
            "type": "table"
           }
          ]
         },
         "layout": {
          "annotationdefaults": {
           "arrowcolor": "#2a3f5f",
           "arrowhead": 0,
           "arrowwidth": 1
          },
          "autotypenumbers": "strict",
          "coloraxis": {
           "colorbar": {
            "outlinewidth": 0,
            "ticks": ""
           }
          },
          "colorscale": {
           "diverging": [
            [
             0,
             "#8e0152"
            ],
            [
             0.1,
             "#c51b7d"
            ],
            [
             0.2,
             "#de77ae"
            ],
            [
             0.3,
             "#f1b6da"
            ],
            [
             0.4,
             "#fde0ef"
            ],
            [
             0.5,
             "#f7f7f7"
            ],
            [
             0.6,
             "#e6f5d0"
            ],
            [
             0.7,
             "#b8e186"
            ],
            [
             0.8,
             "#7fbc41"
            ],
            [
             0.9,
             "#4d9221"
            ],
            [
             1,
             "#276419"
            ]
           ],
           "sequential": [
            [
             0,
             "#0d0887"
            ],
            [
             0.1111111111111111,
             "#46039f"
            ],
            [
             0.2222222222222222,
             "#7201a8"
            ],
            [
             0.3333333333333333,
             "#9c179e"
            ],
            [
             0.4444444444444444,
             "#bd3786"
            ],
            [
             0.5555555555555556,
             "#d8576b"
            ],
            [
             0.6666666666666666,
             "#ed7953"
            ],
            [
             0.7777777777777778,
             "#fb9f3a"
            ],
            [
             0.8888888888888888,
             "#fdca26"
            ],
            [
             1,
             "#f0f921"
            ]
           ],
           "sequentialminus": [
            [
             0,
             "#0d0887"
            ],
            [
             0.1111111111111111,
             "#46039f"
            ],
            [
             0.2222222222222222,
             "#7201a8"
            ],
            [
             0.3333333333333333,
             "#9c179e"
            ],
            [
             0.4444444444444444,
             "#bd3786"
            ],
            [
             0.5555555555555556,
             "#d8576b"
            ],
            [
             0.6666666666666666,
             "#ed7953"
            ],
            [
             0.7777777777777778,
             "#fb9f3a"
            ],
            [
             0.8888888888888888,
             "#fdca26"
            ],
            [
             1,
             "#f0f921"
            ]
           ]
          },
          "colorway": [
           "#636efa",
           "#EF553B",
           "#00cc96",
           "#ab63fa",
           "#FFA15A",
           "#19d3f3",
           "#FF6692",
           "#B6E880",
           "#FF97FF",
           "#FECB52"
          ],
          "font": {
           "color": "#2a3f5f"
          },
          "geo": {
           "bgcolor": "white",
           "lakecolor": "white",
           "landcolor": "#E5ECF6",
           "showlakes": true,
           "showland": true,
           "subunitcolor": "white"
          },
          "hoverlabel": {
           "align": "left"
          },
          "hovermode": "closest",
          "mapbox": {
           "style": "light"
          },
          "paper_bgcolor": "white",
          "plot_bgcolor": "#E5ECF6",
          "polar": {
           "angularaxis": {
            "gridcolor": "white",
            "linecolor": "white",
            "ticks": ""
           },
           "bgcolor": "#E5ECF6",
           "radialaxis": {
            "gridcolor": "white",
            "linecolor": "white",
            "ticks": ""
           }
          },
          "scene": {
           "xaxis": {
            "backgroundcolor": "#E5ECF6",
            "gridcolor": "white",
            "gridwidth": 2,
            "linecolor": "white",
            "showbackground": true,
            "ticks": "",
            "zerolinecolor": "white"
           },
           "yaxis": {
            "backgroundcolor": "#E5ECF6",
            "gridcolor": "white",
            "gridwidth": 2,
            "linecolor": "white",
            "showbackground": true,
            "ticks": "",
            "zerolinecolor": "white"
           },
           "zaxis": {
            "backgroundcolor": "#E5ECF6",
            "gridcolor": "white",
            "gridwidth": 2,
            "linecolor": "white",
            "showbackground": true,
            "ticks": "",
            "zerolinecolor": "white"
           }
          },
          "shapedefaults": {
           "line": {
            "color": "#2a3f5f"
           }
          },
          "ternary": {
           "aaxis": {
            "gridcolor": "white",
            "linecolor": "white",
            "ticks": ""
           },
           "baxis": {
            "gridcolor": "white",
            "linecolor": "white",
            "ticks": ""
           },
           "bgcolor": "#E5ECF6",
           "caxis": {
            "gridcolor": "white",
            "linecolor": "white",
            "ticks": ""
           }
          },
          "title": {
           "x": 0.05
          },
          "xaxis": {
           "automargin": true,
           "gridcolor": "white",
           "linecolor": "white",
           "ticks": "",
           "title": {
            "standoff": 15
           },
           "zerolinecolor": "white",
           "zerolinewidth": 2
          },
          "yaxis": {
           "automargin": true,
           "gridcolor": "white",
           "linecolor": "white",
           "ticks": "",
           "title": {
            "standoff": 15
           },
           "zerolinecolor": "white",
           "zerolinewidth": 2
          }
         }
        },
        "title": {
         "text": "Occurrences by Month"
        },
        "xaxis": {
         "anchor": "y",
         "domain": [
          0,
          1
         ],
         "title": {
          "text": "Month"
         }
        },
        "yaxis": {
         "anchor": "x",
         "domain": [
          0,
          1
         ],
         "title": {
          "text": "Count"
         }
        }
       }
      },
      "text/html": [
       "<div>                            <div id=\"c6e2e944-aba5-42da-b3a8-2872559519b2\" class=\"plotly-graph-div\" style=\"height:525px; width:100%;\"></div>            <script type=\"text/javascript\">                require([\"plotly\"], function(Plotly) {                    window.PLOTLYENV=window.PLOTLYENV || {};                                    if (document.getElementById(\"c6e2e944-aba5-42da-b3a8-2872559519b2\")) {                    Plotly.newPlot(                        \"c6e2e944-aba5-42da-b3a8-2872559519b2\",                        [{\"hovertemplate\":\"occurrencemonth=%{x}<br>Count=%{y}<extra></extra>\",\"legendgroup\":\"\",\"line\":{\"color\":\"#636efa\",\"dash\":\"solid\"},\"marker\":{\"symbol\":\"circle\"},\"mode\":\"lines\",\"name\":\"\",\"orientation\":\"v\",\"showlegend\":false,\"x\":[\"January\",\"February\",\"March\",\"April\",\"May\",\"June\",\"July\",\"August\",\"September\",\"October\",\"November\",\"December\"],\"xaxis\":\"x\",\"y\":[2574,2226,2548,2378,2978,2931,3024,3235,3137,3297,3019,2930],\"yaxis\":\"y\",\"type\":\"scatter\"}],                        {\"template\":{\"data\":{\"bar\":[{\"error_x\":{\"color\":\"#2a3f5f\"},\"error_y\":{\"color\":\"#2a3f5f\"},\"marker\":{\"line\":{\"color\":\"#E5ECF6\",\"width\":0.5},\"pattern\":{\"fillmode\":\"overlay\",\"size\":10,\"solidity\":0.2}},\"type\":\"bar\"}],\"barpolar\":[{\"marker\":{\"line\":{\"color\":\"#E5ECF6\",\"width\":0.5},\"pattern\":{\"fillmode\":\"overlay\",\"size\":10,\"solidity\":0.2}},\"type\":\"barpolar\"}],\"carpet\":[{\"aaxis\":{\"endlinecolor\":\"#2a3f5f\",\"gridcolor\":\"white\",\"linecolor\":\"white\",\"minorgridcolor\":\"white\",\"startlinecolor\":\"#2a3f5f\"},\"baxis\":{\"endlinecolor\":\"#2a3f5f\",\"gridcolor\":\"white\",\"linecolor\":\"white\",\"minorgridcolor\":\"white\",\"startlinecolor\":\"#2a3f5f\"},\"type\":\"carpet\"}],\"choropleth\":[{\"colorbar\":{\"outlinewidth\":0,\"ticks\":\"\"},\"type\":\"choropleth\"}],\"contour\":[{\"colorbar\":{\"outlinewidth\":0,\"ticks\":\"\"},\"colorscale\":[[0.0,\"#0d0887\"],[0.1111111111111111,\"#46039f\"],[0.2222222222222222,\"#7201a8\"],[0.3333333333333333,\"#9c179e\"],[0.4444444444444444,\"#bd3786\"],[0.5555555555555556,\"#d8576b\"],[0.6666666666666666,\"#ed7953\"],[0.7777777777777778,\"#fb9f3a\"],[0.8888888888888888,\"#fdca26\"],[1.0,\"#f0f921\"]],\"type\":\"contour\"}],\"contourcarpet\":[{\"colorbar\":{\"outlinewidth\":0,\"ticks\":\"\"},\"type\":\"contourcarpet\"}],\"heatmap\":[{\"colorbar\":{\"outlinewidth\":0,\"ticks\":\"\"},\"colorscale\":[[0.0,\"#0d0887\"],[0.1111111111111111,\"#46039f\"],[0.2222222222222222,\"#7201a8\"],[0.3333333333333333,\"#9c179e\"],[0.4444444444444444,\"#bd3786\"],[0.5555555555555556,\"#d8576b\"],[0.6666666666666666,\"#ed7953\"],[0.7777777777777778,\"#fb9f3a\"],[0.8888888888888888,\"#fdca26\"],[1.0,\"#f0f921\"]],\"type\":\"heatmap\"}],\"heatmapgl\":[{\"colorbar\":{\"outlinewidth\":0,\"ticks\":\"\"},\"colorscale\":[[0.0,\"#0d0887\"],[0.1111111111111111,\"#46039f\"],[0.2222222222222222,\"#7201a8\"],[0.3333333333333333,\"#9c179e\"],[0.4444444444444444,\"#bd3786\"],[0.5555555555555556,\"#d8576b\"],[0.6666666666666666,\"#ed7953\"],[0.7777777777777778,\"#fb9f3a\"],[0.8888888888888888,\"#fdca26\"],[1.0,\"#f0f921\"]],\"type\":\"heatmapgl\"}],\"histogram\":[{\"marker\":{\"pattern\":{\"fillmode\":\"overlay\",\"size\":10,\"solidity\":0.2}},\"type\":\"histogram\"}],\"histogram2d\":[{\"colorbar\":{\"outlinewidth\":0,\"ticks\":\"\"},\"colorscale\":[[0.0,\"#0d0887\"],[0.1111111111111111,\"#46039f\"],[0.2222222222222222,\"#7201a8\"],[0.3333333333333333,\"#9c179e\"],[0.4444444444444444,\"#bd3786\"],[0.5555555555555556,\"#d8576b\"],[0.6666666666666666,\"#ed7953\"],[0.7777777777777778,\"#fb9f3a\"],[0.8888888888888888,\"#fdca26\"],[1.0,\"#f0f921\"]],\"type\":\"histogram2d\"}],\"histogram2dcontour\":[{\"colorbar\":{\"outlinewidth\":0,\"ticks\":\"\"},\"colorscale\":[[0.0,\"#0d0887\"],[0.1111111111111111,\"#46039f\"],[0.2222222222222222,\"#7201a8\"],[0.3333333333333333,\"#9c179e\"],[0.4444444444444444,\"#bd3786\"],[0.5555555555555556,\"#d8576b\"],[0.6666666666666666,\"#ed7953\"],[0.7777777777777778,\"#fb9f3a\"],[0.8888888888888888,\"#fdca26\"],[1.0,\"#f0f921\"]],\"type\":\"histogram2dcontour\"}],\"mesh3d\":[{\"colorbar\":{\"outlinewidth\":0,\"ticks\":\"\"},\"type\":\"mesh3d\"}],\"parcoords\":[{\"line\":{\"colorbar\":{\"outlinewidth\":0,\"ticks\":\"\"}},\"type\":\"parcoords\"}],\"pie\":[{\"automargin\":true,\"type\":\"pie\"}],\"scatter\":[{\"marker\":{\"colorbar\":{\"outlinewidth\":0,\"ticks\":\"\"}},\"type\":\"scatter\"}],\"scatter3d\":[{\"line\":{\"colorbar\":{\"outlinewidth\":0,\"ticks\":\"\"}},\"marker\":{\"colorbar\":{\"outlinewidth\":0,\"ticks\":\"\"}},\"type\":\"scatter3d\"}],\"scattercarpet\":[{\"marker\":{\"colorbar\":{\"outlinewidth\":0,\"ticks\":\"\"}},\"type\":\"scattercarpet\"}],\"scattergeo\":[{\"marker\":{\"colorbar\":{\"outlinewidth\":0,\"ticks\":\"\"}},\"type\":\"scattergeo\"}],\"scattergl\":[{\"marker\":{\"colorbar\":{\"outlinewidth\":0,\"ticks\":\"\"}},\"type\":\"scattergl\"}],\"scattermapbox\":[{\"marker\":{\"colorbar\":{\"outlinewidth\":0,\"ticks\":\"\"}},\"type\":\"scattermapbox\"}],\"scatterpolar\":[{\"marker\":{\"colorbar\":{\"outlinewidth\":0,\"ticks\":\"\"}},\"type\":\"scatterpolar\"}],\"scatterpolargl\":[{\"marker\":{\"colorbar\":{\"outlinewidth\":0,\"ticks\":\"\"}},\"type\":\"scatterpolargl\"}],\"scatterternary\":[{\"marker\":{\"colorbar\":{\"outlinewidth\":0,\"ticks\":\"\"}},\"type\":\"scatterternary\"}],\"surface\":[{\"colorbar\":{\"outlinewidth\":0,\"ticks\":\"\"},\"colorscale\":[[0.0,\"#0d0887\"],[0.1111111111111111,\"#46039f\"],[0.2222222222222222,\"#7201a8\"],[0.3333333333333333,\"#9c179e\"],[0.4444444444444444,\"#bd3786\"],[0.5555555555555556,\"#d8576b\"],[0.6666666666666666,\"#ed7953\"],[0.7777777777777778,\"#fb9f3a\"],[0.8888888888888888,\"#fdca26\"],[1.0,\"#f0f921\"]],\"type\":\"surface\"}],\"table\":[{\"cells\":{\"fill\":{\"color\":\"#EBF0F8\"},\"line\":{\"color\":\"white\"}},\"header\":{\"fill\":{\"color\":\"#C8D4E3\"},\"line\":{\"color\":\"white\"}},\"type\":\"table\"}]},\"layout\":{\"annotationdefaults\":{\"arrowcolor\":\"#2a3f5f\",\"arrowhead\":0,\"arrowwidth\":1},\"autotypenumbers\":\"strict\",\"coloraxis\":{\"colorbar\":{\"outlinewidth\":0,\"ticks\":\"\"}},\"colorscale\":{\"diverging\":[[0,\"#8e0152\"],[0.1,\"#c51b7d\"],[0.2,\"#de77ae\"],[0.3,\"#f1b6da\"],[0.4,\"#fde0ef\"],[0.5,\"#f7f7f7\"],[0.6,\"#e6f5d0\"],[0.7,\"#b8e186\"],[0.8,\"#7fbc41\"],[0.9,\"#4d9221\"],[1,\"#276419\"]],\"sequential\":[[0.0,\"#0d0887\"],[0.1111111111111111,\"#46039f\"],[0.2222222222222222,\"#7201a8\"],[0.3333333333333333,\"#9c179e\"],[0.4444444444444444,\"#bd3786\"],[0.5555555555555556,\"#d8576b\"],[0.6666666666666666,\"#ed7953\"],[0.7777777777777778,\"#fb9f3a\"],[0.8888888888888888,\"#fdca26\"],[1.0,\"#f0f921\"]],\"sequentialminus\":[[0.0,\"#0d0887\"],[0.1111111111111111,\"#46039f\"],[0.2222222222222222,\"#7201a8\"],[0.3333333333333333,\"#9c179e\"],[0.4444444444444444,\"#bd3786\"],[0.5555555555555556,\"#d8576b\"],[0.6666666666666666,\"#ed7953\"],[0.7777777777777778,\"#fb9f3a\"],[0.8888888888888888,\"#fdca26\"],[1.0,\"#f0f921\"]]},\"colorway\":[\"#636efa\",\"#EF553B\",\"#00cc96\",\"#ab63fa\",\"#FFA15A\",\"#19d3f3\",\"#FF6692\",\"#B6E880\",\"#FF97FF\",\"#FECB52\"],\"font\":{\"color\":\"#2a3f5f\"},\"geo\":{\"bgcolor\":\"white\",\"lakecolor\":\"white\",\"landcolor\":\"#E5ECF6\",\"showlakes\":true,\"showland\":true,\"subunitcolor\":\"white\"},\"hoverlabel\":{\"align\":\"left\"},\"hovermode\":\"closest\",\"mapbox\":{\"style\":\"light\"},\"paper_bgcolor\":\"white\",\"plot_bgcolor\":\"#E5ECF6\",\"polar\":{\"angularaxis\":{\"gridcolor\":\"white\",\"linecolor\":\"white\",\"ticks\":\"\"},\"bgcolor\":\"#E5ECF6\",\"radialaxis\":{\"gridcolor\":\"white\",\"linecolor\":\"white\",\"ticks\":\"\"}},\"scene\":{\"xaxis\":{\"backgroundcolor\":\"#E5ECF6\",\"gridcolor\":\"white\",\"gridwidth\":2,\"linecolor\":\"white\",\"showbackground\":true,\"ticks\":\"\",\"zerolinecolor\":\"white\"},\"yaxis\":{\"backgroundcolor\":\"#E5ECF6\",\"gridcolor\":\"white\",\"gridwidth\":2,\"linecolor\":\"white\",\"showbackground\":true,\"ticks\":\"\",\"zerolinecolor\":\"white\"},\"zaxis\":{\"backgroundcolor\":\"#E5ECF6\",\"gridcolor\":\"white\",\"gridwidth\":2,\"linecolor\":\"white\",\"showbackground\":true,\"ticks\":\"\",\"zerolinecolor\":\"white\"}},\"shapedefaults\":{\"line\":{\"color\":\"#2a3f5f\"}},\"ternary\":{\"aaxis\":{\"gridcolor\":\"white\",\"linecolor\":\"white\",\"ticks\":\"\"},\"baxis\":{\"gridcolor\":\"white\",\"linecolor\":\"white\",\"ticks\":\"\"},\"bgcolor\":\"#E5ECF6\",\"caxis\":{\"gridcolor\":\"white\",\"linecolor\":\"white\",\"ticks\":\"\"}},\"title\":{\"x\":0.05},\"xaxis\":{\"automargin\":true,\"gridcolor\":\"white\",\"linecolor\":\"white\",\"ticks\":\"\",\"title\":{\"standoff\":15},\"zerolinecolor\":\"white\",\"zerolinewidth\":2},\"yaxis\":{\"automargin\":true,\"gridcolor\":\"white\",\"linecolor\":\"white\",\"ticks\":\"\",\"title\":{\"standoff\":15},\"zerolinecolor\":\"white\",\"zerolinewidth\":2}}},\"xaxis\":{\"anchor\":\"y\",\"domain\":[0.0,1.0],\"title\":{\"text\":\"Month\"}},\"yaxis\":{\"anchor\":\"x\",\"domain\":[0.0,1.0],\"title\":{\"text\":\"Count\"}},\"legend\":{\"tracegroupgap\":0},\"title\":{\"text\":\"Occurrences by Month\"}},                        {\"responsive\": true}                    ).then(function(){\n",
       "                            \n",
       "var gd = document.getElementById('c6e2e944-aba5-42da-b3a8-2872559519b2');\n",
       "var x = new MutationObserver(function (mutations, observer) {{\n",
       "        var display = window.getComputedStyle(gd).display;\n",
       "        if (!display || display === 'none') {{\n",
       "            console.log([gd, 'removed!']);\n",
       "            Plotly.purge(gd);\n",
       "            observer.disconnect();\n",
       "        }}\n",
       "}});\n",
       "\n",
       "// Listen for the removal of the full notebook cells\n",
       "var notebookContainer = gd.closest('#notebook-container');\n",
       "if (notebookContainer) {{\n",
       "    x.observe(notebookContainer, {childList: true});\n",
       "}}\n",
       "\n",
       "// Listen for the clearing of the current output cell\n",
       "var outputEl = gd.closest('.output');\n",
       "if (outputEl) {{\n",
       "    x.observe(outputEl, {childList: true});\n",
       "}}\n",
       "\n",
       "                        })                };                });            </script>        </div>"
      ]
     },
     "metadata": {},
     "output_type": "display_data"
    },
    {
     "data": {
      "image/png": "[encoded data removed]",
      "text/plain": [
       "<Figure size 432x288 with 1 Axes>"
      ]
     },
     "metadata": {
      "needs_background": "light"
     },
     "output_type": "display_data"
    }
   ],
   "source": [
    "# Assuming you have the monthly_counts dataframe\n",
    "monthly_counts = pd.DataFrame({\n",
    "    'occurrencemonth': ['April', 'August', 'December', 'February', 'January', 'July', 'June', 'March', 'May',\n",
    "                        'November', 'October', 'September'],\n",
    "    'Count': [2378, 3235, 2930, 2226, 2574, 3024, 2931, 2548, 2978, 3019, 3297, 3137]\n",
    "})\n",
    "\n",
    "# Sort the months based on the specified order\n",
    "monthly_counts = monthly_counts.sort_values(by='occurrencemonth', key=lambda x: pd.Categorical(x, categories=month_order))\n",
    "\n",
    "# Create a line graph\n",
    "fig = px.line(monthly_counts, x='occurrencemonth', y='Count', title='Occurrences by Month')\n",
    "\n",
    "# Customize the appearance\n",
    "fig.update_layout(xaxis_title='Month', yaxis_title='Count')\n",
    "\n",
    "# Display the line graph\n",
    "fig.show()\n",
    "\n",
    "# Create the line graph\n",
    "plt.plot(monthly_counts['occurrencemonth'], monthly_counts['Count'], marker='o')\n",
    "\n",
    "# Customize the appearance\n",
    "plt.title('Occurrences by Month')\n",
    "plt.xlabel('Month')\n",
    "plt.ylabel('Count')\n",
    "plt.xticks(rotation=90)\n",
    "plt.show()"
   ]
  },
  {
   "cell_type": "markdown",
   "id": "aa455875",
   "metadata": {},
   "source": [
    "# occurrencedayofweek\t"
   ]
  },
  {
   "cell_type": "code",
   "execution_count": 30,
   "id": "7d4aa4c7",
   "metadata": {},
   "outputs": [
    {
     "data": {
      "text/plain": [
       "array(['Friday    ', 'Saturday  ', 'Sunday    ', 'Monday    ',\n",
       "       'Tuesday   ', 'Wednesday ', 'Thursday  '], dtype=object)"
      ]
     },
     "execution_count": 30,
     "metadata": {},
     "output_type": "execute_result"
    }
   ],
   "source": [
    "occurrencemonth_in_weekdays = df['occurrencedayofweek'].unique()\n",
    "occurrencemonth_in_weekdays "
   ]
  },
  {
   "cell_type": "code",
   "execution_count": 24,
   "id": "137c65bc",
   "metadata": {},
   "outputs": [
    {
     "data": {
      "text/html": [
       "<div>\n",
       "<style scoped>\n",
       "    .dataframe tbody tr th:only-of-type {\n",
       "        vertical-align: middle;\n",
       "    }\n",
       "\n",
       "    .dataframe tbody tr th {\n",
       "        vertical-align: top;\n",
       "    }\n",
       "\n",
       "    .dataframe thead th {\n",
       "        text-align: right;\n",
       "    }\n",
       "</style>\n",
       "<table border=\"1\" class=\"dataframe\">\n",
       "  <thead>\n",
       "    <tr style=\"text-align: right;\">\n",
       "      <th></th>\n",
       "      <th>occurrencedayofweek</th>\n",
       "      <th>Count</th>\n",
       "    </tr>\n",
       "  </thead>\n",
       "  <tbody>\n",
       "    <tr>\n",
       "      <th>0</th>\n",
       "      <td>Friday</td>\n",
       "      <td>5114</td>\n",
       "    </tr>\n",
       "    <tr>\n",
       "      <th>1</th>\n",
       "      <td>Monday</td>\n",
       "      <td>4750</td>\n",
       "    </tr>\n",
       "    <tr>\n",
       "      <th>2</th>\n",
       "      <td>Saturday</td>\n",
       "      <td>5055</td>\n",
       "    </tr>\n",
       "    <tr>\n",
       "      <th>3</th>\n",
       "      <td>Sunday</td>\n",
       "      <td>4889</td>\n",
       "    </tr>\n",
       "    <tr>\n",
       "      <th>4</th>\n",
       "      <td>Thursday</td>\n",
       "      <td>4883</td>\n",
       "    </tr>\n",
       "    <tr>\n",
       "      <th>5</th>\n",
       "      <td>Tuesday</td>\n",
       "      <td>4698</td>\n",
       "    </tr>\n",
       "    <tr>\n",
       "      <th>6</th>\n",
       "      <td>Wednesday</td>\n",
       "      <td>4888</td>\n",
       "    </tr>\n",
       "  </tbody>\n",
       "</table>\n",
       "</div>"
      ],
      "text/plain": [
       "  occurrencedayofweek  Count\n",
       "0          Friday       5114\n",
       "1          Monday       4750\n",
       "2          Saturday     5055\n",
       "3          Sunday       4889\n",
       "4          Thursday     4883\n",
       "5          Tuesday      4698\n",
       "6          Wednesday    4888"
      ]
     },
     "execution_count": 24,
     "metadata": {},
     "output_type": "execute_result"
    }
   ],
   "source": [
    "# Group the data by month and count the occurrences\n",
    "weekly_counts = df.groupby('occurrencedayofweek').size().reset_index(name='Count')\n",
    "weekly_counts"
   ]
  },
  {
   "cell_type": "raw",
   "id": "0ca55071",
   "metadata": {},
   "source": [
    "The most crime is recorded on Fridays, although there is no significant variation between weekdays and weekends; crime is reported every day."
   ]
  },
  {
   "cell_type": "markdown",
   "id": "9f7303e1",
   "metadata": {},
   "source": [
    "# Neighbourhood"
   ]
  },
  {
   "cell_type": "code",
   "execution_count": 37,
   "id": "884d9ff2",
   "metadata": {},
   "outputs": [],
   "source": [
    "Neighbourhood = df['Neighbourhood'].unique()\n"
   ]
  },
  {
   "cell_type": "code",
   "execution_count": 38,
   "id": "e4e17e6a",
   "metadata": {},
   "outputs": [
    {
     "data": {
      "text/html": [
       "<div>\n",
       "<style scoped>\n",
       "    .dataframe tbody tr th:only-of-type {\n",
       "        vertical-align: middle;\n",
       "    }\n",
       "\n",
       "    .dataframe tbody tr th {\n",
       "        vertical-align: top;\n",
       "    }\n",
       "\n",
       "    .dataframe thead th {\n",
       "        text-align: right;\n",
       "    }\n",
       "</style>\n",
       "<table border=\"1\" class=\"dataframe\">\n",
       "  <thead>\n",
       "    <tr style=\"text-align: right;\">\n",
       "      <th></th>\n",
       "      <th>Neighbourhood</th>\n",
       "      <th>Count</th>\n",
       "    </tr>\n",
       "  </thead>\n",
       "  <tbody>\n",
       "    <tr>\n",
       "      <th>0</th>\n",
       "      <td>Agincourt North</td>\n",
       "      <td>138</td>\n",
       "    </tr>\n",
       "    <tr>\n",
       "      <th>1</th>\n",
       "      <td>Agincourt South-Malvern West</td>\n",
       "      <td>253</td>\n",
       "    </tr>\n",
       "    <tr>\n",
       "      <th>2</th>\n",
       "      <td>Alderwood</td>\n",
       "      <td>83</td>\n",
       "    </tr>\n",
       "    <tr>\n",
       "      <th>3</th>\n",
       "      <td>Annex</td>\n",
       "      <td>586</td>\n",
       "    </tr>\n",
       "    <tr>\n",
       "      <th>4</th>\n",
       "      <td>Banbury-Don Mills</td>\n",
       "      <td>152</td>\n",
       "    </tr>\n",
       "    <tr>\n",
       "      <th>...</th>\n",
       "      <td>...</td>\n",
       "      <td>...</td>\n",
       "    </tr>\n",
       "    <tr>\n",
       "      <th>136</th>\n",
       "      <td>Wychwood</td>\n",
       "      <td>108</td>\n",
       "    </tr>\n",
       "    <tr>\n",
       "      <th>137</th>\n",
       "      <td>Yonge-Eglinton</td>\n",
       "      <td>125</td>\n",
       "    </tr>\n",
       "    <tr>\n",
       "      <th>138</th>\n",
       "      <td>Yonge-St.Clair</td>\n",
       "      <td>101</td>\n",
       "    </tr>\n",
       "    <tr>\n",
       "      <th>139</th>\n",
       "      <td>York University Heights</td>\n",
       "      <td>676</td>\n",
       "    </tr>\n",
       "    <tr>\n",
       "      <th>140</th>\n",
       "      <td>Yorkdale-Glen Park</td>\n",
       "      <td>360</td>\n",
       "    </tr>\n",
       "  </tbody>\n",
       "</table>\n",
       "<p>141 rows × 2 columns</p>\n",
       "</div>"
      ],
      "text/plain": [
       "                    Neighbourhood  Count\n",
       "0                 Agincourt North    138\n",
       "1    Agincourt South-Malvern West    253\n",
       "2                       Alderwood     83\n",
       "3                           Annex    586\n",
       "4               Banbury-Don Mills    152\n",
       "..                            ...    ...\n",
       "136                      Wychwood    108\n",
       "137                Yonge-Eglinton    125\n",
       "138                Yonge-St.Clair    101\n",
       "139       York University Heights    676\n",
       "140            Yorkdale-Glen Park    360\n",
       "\n",
       "[141 rows x 2 columns]"
      ]
     },
     "execution_count": 38,
     "metadata": {},
     "output_type": "execute_result"
    }
   ],
   "source": [
    "crime_n =df.groupby('Neighbourhood').size().reset_index(name='Count')\n",
    "crime_n"
   ]
  },
  {
   "cell_type": "code",
   "execution_count": 51,
   "id": "5d9183fc",
   "metadata": {},
   "outputs": [],
   "source": [
    "Neighbourhood1 = df['Neighbourhood']"
   ]
  },
  {
   "cell_type": "code",
   "execution_count": 61,
   "id": "7aeab4a9",
   "metadata": {},
   "outputs": [
    {
     "data": {
      "application/vnd.plotly.v1+json": {
       "config": {
        "plotlyServerURL": "https://plot.ly"
       },
       "data": [
        {
         "alignmentgroup": "True",
         "hovertemplate": "Count=%{x}<br>Neighbourhood=%{y}<extra></extra>",
         "legendgroup": "",
         "marker": {
          "color": "#636efa",
          "pattern": {
           "shape": ""
          }
         },
         "name": "",
         "offsetgroup": "",
         "orientation": "h",
         "showlegend": false,
         "textposition": "outside",
         "texttemplate": "%{x:,}",
         "type": "bar",
         "x": [
          1528,
          1431,
          941,
          919,
          798,
          746,
          676,
          586,
          565,
          546,
          545,
          531,
          506,
          502,
          478,
          454,
          450,
          419,
          413,
          402,
          366,
          362,
          360,
          360,
          359,
          357,
          355,
          351,
          341,
          333,
          332,
          327,
          324,
          315,
          314,
          281,
          256,
          254,
          253,
          248,
          247,
          242,
          241,
          234,
          234,
          231,
          224,
          222,
          220,
          215,
          214,
          213,
          211,
          210,
          208,
          202,
          198,
          196,
          192,
          187,
          187,
          186,
          186,
          185,
          185,
          185,
          181,
          177,
          175,
          174,
          174,
          170,
          167,
          166,
          163,
          162,
          161,
          160,
          158,
          157,
          155,
          155,
          155,
          154,
          152,
          152,
          151,
          145,
          144,
          143,
          138,
          136,
          132,
          132,
          132,
          131,
          131,
          129,
          129,
          127,
          125,
          124,
          124,
          123,
          120,
          118,
          116,
          116,
          115,
          114,
          113,
          108,
          106,
          106,
          105,
          104,
          101,
          99,
          99,
          94,
          92,
          92,
          90,
          90,
          89,
          83,
          82,
          80,
          78,
          75,
          75,
          74,
          69,
          67,
          67,
          65,
          60,
          59,
          54,
          51,
          48
         ],
         "xaxis": "x",
         "y": [
          "Waterfront Communities-The Island",
          "Church-Yonge Corridor",
          "West Humber-Clairville",
          "Moss Park",
          "Bay Street Corridor",
          "Downsview-Roding-CFB",
          "York University Heights",
          "Annex",
          "Kensington-Chinatown",
          "Islington-City Centre West",
          "Woburn",
          "NSA",
          "West Hill",
          "Mimico",
          "Glenfield-Jane Heights",
          "South Riverdale",
          "Dovercourt-Wallace Emerson-Junction",
          "Wexford/Maryvale",
          "Niagara",
          "Willowdale East",
          "Bendale",
          "Clairlea-Birchmount",
          "South Parkdale",
          "Yorkdale-Glen Park",
          "Newtonbrook West",
          "Mount Pleasant West",
          "Mount Olive-Silverstone-Jamestown",
          "Malvern",
          "North St.James Town",
          "Rouge",
          "Humber Summit",
          "Black Creek",
          "East End-Danforth",
          "Rosedale-Moore Park",
          "Weston",
          "Kennedy Park",
          "LAmoreaux",
          "Oakridge",
          "Agincourt South-Malvern West",
          "Parkwoods-Donalda",
          "Milliken",
          "Eglinton East",
          "Dorset Park",
          "Rockcliffe-Smythe",
          "Regent Park",
          "Humbermede",
          "Clanton Park",
          "Birchcliffe-Cliffside",
          "Trinity-Bellwoods",
          "Kingsview Village-The Westway",
          "Don Valley Village",
          "Tam OShanter-Sullivan",
          "Cabbagetown-South St.James Town",
          "Brookhaven-Amesbury",
          "OConnor-Parkview",
          "Roncesvalles",
          "Stonegate-Queensway",
          "Westminster-Branson",
          "Junction Area",
          "The Beaches",
          "Bedford Park-Nortown",
          "Thorncliffe Park",
          "Scarborough Village",
          "Lansing-Westgate",
          "Danforth",
          "Leaside-Bennington",
          "Oakwood Village",
          "Corso Italia-Davenport",
          "Flemingdon Park",
          "High Park North",
          "Victoria Village",
          "Greenwood-Coxwell",
          "Willowdale West",
          "Taylor-Massey",
          "Newtonbrook East",
          "New Toronto",
          "Little Portugal",
          "Henry Farm",
          "Cliffcrest",
          "Briar Hill-Belgravia",
          "Long Branch",
          "University",
          "St.Andrew-Windfields",
          "Englemount-Lawrence",
          "Bayview Village",
          "Banbury-Don Mills",
          "Mount Dennis",
          "High Park-Swansea",
          "Willowridge-Martingrove-Richview",
          "Pelmo Park-Humberlea",
          "Agincourt North",
          "Dufferin Grove",
          "Mount Pleasant East",
          "Lawrence Park South",
          "Weston-Pellam Park",
          "Morningside",
          "Rexdale-Kipling",
          "Woodbine Corridor",
          "Elms-Old Rexdale",
          "Keelesdale-Eglinton West",
          "Yonge-Eglinton",
          "Eringate-Centennial-West Deane",
          "Bathurst Manor",
          "Playter Estates-Danforth",
          "Ionview",
          "Steeles",
          "Hillcrest Village",
          "Palmerston-Little Italy",
          "Forest Hill South",
          "Thistletown-Beaumond Heights",
          "Lawrence Park North",
          "Wychwood",
          "Danforth East York",
          "Bridle Path-Sunnybrook-York Mills",
          "North Riverdale",
          "Humewood-Cedarvale",
          "Yonge-St.Clair",
          "Casa Loma",
          "Rustic",
          "Beechborough-Greenbrook",
          "Broadview North",
          "Blake-Jones",
          "Kingsway South",
          "Forest Hill North",
          "Caledonia-Fairbank",
          "Alderwood",
          "Old East York",
          "Edenbridge-Humber Valley",
          "Etobicoke West Mall",
          "Highland Creek",
          "Humber Heights-Westmount",
          "Runnymede-Bloor West Village",
          "Bayview Woods-Steeles",
          "Centennial Scarborough",
          "Pleasant View",
          "Markland Wood",
          "Maple Leaf",
          "Princess-Rosethorn",
          "Guildwood",
          "Lambton Baby Point",
          "Woodbine-Lumsden"
         ],
         "yaxis": "y"
        }
       ],
       "layout": {
        "bargap": 0.2,
        "barmode": "relative",
        "height": 800,
        "legend": {
         "tracegroupgap": 0
        },
        "template": {
         "data": {
          "bar": [
           {
            "error_x": {
             "color": "#2a3f5f"
            },
            "error_y": {
             "color": "#2a3f5f"
            },
            "marker": {
             "line": {
              "color": "#E5ECF6",
              "width": 0.5
             },
             "pattern": {
              "fillmode": "overlay",
              "size": 10,
              "solidity": 0.2
             }
            },
            "type": "bar"
           }
          ],
          "barpolar": [
           {
            "marker": {
             "line": {
              "color": "#E5ECF6",
              "width": 0.5
             },
             "pattern": {
              "fillmode": "overlay",
              "size": 10,
              "solidity": 0.2
             }
            },
            "type": "barpolar"
           }
          ],
          "carpet": [
           {
            "aaxis": {
             "endlinecolor": "#2a3f5f",
             "gridcolor": "white",
             "linecolor": "white",
             "minorgridcolor": "white",
             "startlinecolor": "#2a3f5f"
            },
            "baxis": {
             "endlinecolor": "#2a3f5f",
             "gridcolor": "white",
             "linecolor": "white",
             "minorgridcolor": "white",
             "startlinecolor": "#2a3f5f"
            },
            "type": "carpet"
           }
          ],
          "choropleth": [
           {
            "colorbar": {
             "outlinewidth": 0,
             "ticks": ""
            },
            "type": "choropleth"
           }
          ],
          "contour": [
           {
            "colorbar": {
             "outlinewidth": 0,
             "ticks": ""
            },
            "colorscale": [
             [
              0,
              "#0d0887"
             ],
             [
              0.1111111111111111,
              "#46039f"
             ],
             [
              0.2222222222222222,
              "#7201a8"
             ],
             [
              0.3333333333333333,
              "#9c179e"
             ],
             [
              0.4444444444444444,
              "#bd3786"
             ],
             [
              0.5555555555555556,
              "#d8576b"
             ],
             [
              0.6666666666666666,
              "#ed7953"
             ],
             [
              0.7777777777777778,
              "#fb9f3a"
             ],
             [
              0.8888888888888888,
              "#fdca26"
             ],
             [
              1,
              "#f0f921"
             ]
            ],
            "type": "contour"
           }
          ],
          "contourcarpet": [
           {
            "colorbar": {
             "outlinewidth": 0,
             "ticks": ""
            },
            "type": "contourcarpet"
           }
          ],
          "heatmap": [
           {
            "colorbar": {
             "outlinewidth": 0,
             "ticks": ""
            },
            "colorscale": [
             [
              0,
              "#0d0887"
             ],
             [
              0.1111111111111111,
              "#46039f"
             ],
             [
              0.2222222222222222,
              "#7201a8"
             ],
             [
              0.3333333333333333,
              "#9c179e"
             ],
             [
              0.4444444444444444,
              "#bd3786"
             ],
             [
              0.5555555555555556,
              "#d8576b"
             ],
             [
              0.6666666666666666,
              "#ed7953"
             ],
             [
              0.7777777777777778,
              "#fb9f3a"
             ],
             [
              0.8888888888888888,
              "#fdca26"
             ],
             [
              1,
              "#f0f921"
             ]
            ],
            "type": "heatmap"
           }
          ],
          "heatmapgl": [
           {
            "colorbar": {
             "outlinewidth": 0,
             "ticks": ""
            },
            "colorscale": [
             [
              0,
              "#0d0887"
             ],
             [
              0.1111111111111111,
              "#46039f"
             ],
             [
              0.2222222222222222,
              "#7201a8"
             ],
             [
              0.3333333333333333,
              "#9c179e"
             ],
             [
              0.4444444444444444,
              "#bd3786"
             ],
             [
              0.5555555555555556,
              "#d8576b"
             ],
             [
              0.6666666666666666,
              "#ed7953"
             ],
             [
              0.7777777777777778,
              "#fb9f3a"
             ],
             [
              0.8888888888888888,
              "#fdca26"
             ],
             [
              1,
              "#f0f921"
             ]
            ],
            "type": "heatmapgl"
           }
          ],
          "histogram": [
           {
            "marker": {
             "pattern": {
              "fillmode": "overlay",
              "size": 10,
              "solidity": 0.2
             }
            },
            "type": "histogram"
           }
          ],
          "histogram2d": [
           {
            "colorbar": {
             "outlinewidth": 0,
             "ticks": ""
            },
            "colorscale": [
             [
              0,
              "#0d0887"
             ],
             [
              0.1111111111111111,
              "#46039f"
             ],
             [
              0.2222222222222222,
              "#7201a8"
             ],
             [
              0.3333333333333333,
              "#9c179e"
             ],
             [
              0.4444444444444444,
              "#bd3786"
             ],
             [
              0.5555555555555556,
              "#d8576b"
             ],
             [
              0.6666666666666666,
              "#ed7953"
             ],
             [
              0.7777777777777778,
              "#fb9f3a"
             ],
             [
              0.8888888888888888,
              "#fdca26"
             ],
             [
              1,
              "#f0f921"
             ]
            ],
            "type": "histogram2d"
           }
          ],
          "histogram2dcontour": [
           {
            "colorbar": {
             "outlinewidth": 0,
             "ticks": ""
            },
            "colorscale": [
             [
              0,
              "#0d0887"
             ],
             [
              0.1111111111111111,
              "#46039f"
             ],
             [
              0.2222222222222222,
              "#7201a8"
             ],
             [
              0.3333333333333333,
              "#9c179e"
             ],
             [
              0.4444444444444444,
              "#bd3786"
             ],
             [
              0.5555555555555556,
              "#d8576b"
             ],
             [
              0.6666666666666666,
              "#ed7953"
             ],
             [
              0.7777777777777778,
              "#fb9f3a"
             ],
             [
              0.8888888888888888,
              "#fdca26"
             ],
             [
              1,
              "#f0f921"
             ]
            ],
            "type": "histogram2dcontour"
           }
          ],
          "mesh3d": [
           {
            "colorbar": {
             "outlinewidth": 0,
             "ticks": ""
            },
            "type": "mesh3d"
           }
          ],
          "parcoords": [
           {
            "line": {
             "colorbar": {
              "outlinewidth": 0,
              "ticks": ""
             }
            },
            "type": "parcoords"
           }
          ],
          "pie": [
           {
            "automargin": true,
            "type": "pie"
           }
          ],
          "scatter": [
           {
            "marker": {
             "colorbar": {
              "outlinewidth": 0,
              "ticks": ""
             }
            },
            "type": "scatter"
           }
          ],
          "scatter3d": [
           {
            "line": {
             "colorbar": {
              "outlinewidth": 0,
              "ticks": ""
             }
            },
            "marker": {
             "colorbar": {
              "outlinewidth": 0,
              "ticks": ""
             }
            },
            "type": "scatter3d"
           }
          ],
          "scattercarpet": [
           {
            "marker": {
             "colorbar": {
              "outlinewidth": 0,
              "ticks": ""
             }
            },
            "type": "scattercarpet"
           }
          ],
          "scattergeo": [
           {
            "marker": {
             "colorbar": {
              "outlinewidth": 0,
              "ticks": ""
             }
            },
            "type": "scattergeo"
           }
          ],
          "scattergl": [
           {
            "marker": {
             "colorbar": {
              "outlinewidth": 0,
              "ticks": ""
             }
            },
            "type": "scattergl"
           }
          ],
          "scattermapbox": [
           {
            "marker": {
             "colorbar": {
              "outlinewidth": 0,
              "ticks": ""
             }
            },
            "type": "scattermapbox"
           }
          ],
          "scatterpolar": [
           {
            "marker": {
             "colorbar": {
              "outlinewidth": 0,
              "ticks": ""
             }
            },
            "type": "scatterpolar"
           }
          ],
          "scatterpolargl": [
           {
            "marker": {
             "colorbar": {
              "outlinewidth": 0,
              "ticks": ""
             }
            },
            "type": "scatterpolargl"
           }
          ],
          "scatterternary": [
           {
            "marker": {
             "colorbar": {
              "outlinewidth": 0,
              "ticks": ""
             }
            },
            "type": "scatterternary"
           }
          ],
          "surface": [
           {
            "colorbar": {
             "outlinewidth": 0,
             "ticks": ""
            },
            "colorscale": [
             [
              0,
              "#0d0887"
             ],
             [
              0.1111111111111111,
              "#46039f"
             ],
             [
              0.2222222222222222,
              "#7201a8"
             ],
             [
              0.3333333333333333,
              "#9c179e"
             ],
             [
              0.4444444444444444,
              "#bd3786"
             ],
             [
              0.5555555555555556,
              "#d8576b"
             ],
             [
              0.6666666666666666,
              "#ed7953"
             ],
             [
              0.7777777777777778,
              "#fb9f3a"
             ],
             [
              0.8888888888888888,
              "#fdca26"
             ],
             [
              1,
              "#f0f921"
             ]
            ],
            "type": "surface"
           }
          ],
          "table": [
           {
            "cells": {
             "fill": {
              "color": "#EBF0F8"
             },
             "line": {
              "color": "white"
             }
            },
            "header": {
             "fill": {
              "color": "#C8D4E3"
             },
             "line": {
              "color": "white"
             }
            },
            "type": "table"
           }
          ]
         },
         "layout": {
          "annotationdefaults": {
           "arrowcolor": "#2a3f5f",
           "arrowhead": 0,
           "arrowwidth": 1
          },
          "autotypenumbers": "strict",
          "coloraxis": {
           "colorbar": {
            "outlinewidth": 0,
            "ticks": ""
           }
          },
          "colorscale": {
           "diverging": [
            [
             0,
             "#8e0152"
            ],
            [
             0.1,
             "#c51b7d"
            ],
            [
             0.2,
             "#de77ae"
            ],
            [
             0.3,
             "#f1b6da"
            ],
            [
             0.4,
             "#fde0ef"
            ],
            [
             0.5,
             "#f7f7f7"
            ],
            [
             0.6,
             "#e6f5d0"
            ],
            [
             0.7,
             "#b8e186"
            ],
            [
             0.8,
             "#7fbc41"
            ],
            [
             0.9,
             "#4d9221"
            ],
            [
             1,
             "#276419"
            ]
           ],
           "sequential": [
            [
             0,
             "#0d0887"
            ],
            [
             0.1111111111111111,
             "#46039f"
            ],
            [
             0.2222222222222222,
             "#7201a8"
            ],
            [
             0.3333333333333333,
             "#9c179e"
            ],
            [
             0.4444444444444444,
             "#bd3786"
            ],
            [
             0.5555555555555556,
             "#d8576b"
            ],
            [
             0.6666666666666666,
             "#ed7953"
            ],
            [
             0.7777777777777778,
             "#fb9f3a"
            ],
            [
             0.8888888888888888,
             "#fdca26"
            ],
            [
             1,
             "#f0f921"
            ]
           ],
           "sequentialminus": [
            [
             0,
             "#0d0887"
            ],
            [
             0.1111111111111111,
             "#46039f"
            ],
            [
             0.2222222222222222,
             "#7201a8"
            ],
            [
             0.3333333333333333,
             "#9c179e"
            ],
            [
             0.4444444444444444,
             "#bd3786"
            ],
            [
             0.5555555555555556,
             "#d8576b"
            ],
            [
             0.6666666666666666,
             "#ed7953"
            ],
            [
             0.7777777777777778,
             "#fb9f3a"
            ],
            [
             0.8888888888888888,
             "#fdca26"
            ],
            [
             1,
             "#f0f921"
            ]
           ]
          },
          "colorway": [
           "#636efa",
           "#EF553B",
           "#00cc96",
           "#ab63fa",
           "#FFA15A",
           "#19d3f3",
           "#FF6692",
           "#B6E880",
           "#FF97FF",
           "#FECB52"
          ],
          "font": {
           "color": "#2a3f5f"
          },
          "geo": {
           "bgcolor": "white",
           "lakecolor": "white",
           "landcolor": "#E5ECF6",
           "showlakes": true,
           "showland": true,
           "subunitcolor": "white"
          },
          "hoverlabel": {
           "align": "left"
          },
          "hovermode": "closest",
          "mapbox": {
           "style": "light"
          },
          "paper_bgcolor": "white",
          "plot_bgcolor": "#E5ECF6",
          "polar": {
           "angularaxis": {
            "gridcolor": "white",
            "linecolor": "white",
            "ticks": ""
           },
           "bgcolor": "#E5ECF6",
           "radialaxis": {
            "gridcolor": "white",
            "linecolor": "white",
            "ticks": ""
           }
          },
          "scene": {
           "xaxis": {
            "backgroundcolor": "#E5ECF6",
            "gridcolor": "white",
            "gridwidth": 2,
            "linecolor": "white",
            "showbackground": true,
            "ticks": "",
            "zerolinecolor": "white"
           },
           "yaxis": {
            "backgroundcolor": "#E5ECF6",
            "gridcolor": "white",
            "gridwidth": 2,
            "linecolor": "white",
            "showbackground": true,
            "ticks": "",
            "zerolinecolor": "white"
           },
           "zaxis": {
            "backgroundcolor": "#E5ECF6",
            "gridcolor": "white",
            "gridwidth": 2,
            "linecolor": "white",
            "showbackground": true,
            "ticks": "",
            "zerolinecolor": "white"
           }
          },
          "shapedefaults": {
           "line": {
            "color": "#2a3f5f"
           }
          },
          "ternary": {
           "aaxis": {
            "gridcolor": "white",
            "linecolor": "white",
            "ticks": ""
           },
           "baxis": {
            "gridcolor": "white",
            "linecolor": "white",
            "ticks": ""
           },
           "bgcolor": "#E5ECF6",
           "caxis": {
            "gridcolor": "white",
            "linecolor": "white",
            "ticks": ""
           }
          },
          "title": {
           "x": 0.05
          },
          "xaxis": {
           "automargin": true,
           "gridcolor": "white",
           "linecolor": "white",
           "ticks": "",
           "title": {
            "standoff": 15
           },
           "zerolinecolor": "white",
           "zerolinewidth": 2
          },
          "yaxis": {
           "automargin": true,
           "gridcolor": "white",
           "linecolor": "white",
           "ticks": "",
           "title": {
            "standoff": 15
           },
           "zerolinecolor": "white",
           "zerolinewidth": 2
          }
         }
        },
        "title": {
         "text": "Crime Occurrences by Neighbourhood"
        },
        "xaxis": {
         "anchor": "y",
         "domain": [
          0,
          1
         ],
         "tickformat": ",d",
         "title": {
          "text": "Number of Crimes"
         }
        },
        "yaxis": {
         "anchor": "x",
         "categoryorder": "total ascending",
         "domain": [
          0,
          1
         ],
         "title": {
          "text": "Neighbourhood"
         }
        }
       }
      },
      "text/html": [
       "<div>                            <div id=\"8319516b-7088-4b2c-b16c-8bcb1ecc2802\" class=\"plotly-graph-div\" style=\"height:800px; width:100%;\"></div>            <script type=\"text/javascript\">                require([\"plotly\"], function(Plotly) {                    window.PLOTLYENV=window.PLOTLYENV || {};                                    if (document.getElementById(\"8319516b-7088-4b2c-b16c-8bcb1ecc2802\")) {                    Plotly.newPlot(                        \"8319516b-7088-4b2c-b16c-8bcb1ecc2802\",                        [{\"alignmentgroup\":\"True\",\"hovertemplate\":\"Count=%{x}<br>Neighbourhood=%{y}<extra></extra>\",\"legendgroup\":\"\",\"marker\":{\"color\":\"#636efa\",\"pattern\":{\"shape\":\"\"}},\"name\":\"\",\"offsetgroup\":\"\",\"orientation\":\"h\",\"showlegend\":false,\"textposition\":\"outside\",\"x\":[1528,1431,941,919,798,746,676,586,565,546,545,531,506,502,478,454,450,419,413,402,366,362,360,360,359,357,355,351,341,333,332,327,324,315,314,281,256,254,253,248,247,242,241,234,234,231,224,222,220,215,214,213,211,210,208,202,198,196,192,187,187,186,186,185,185,185,181,177,175,174,174,170,167,166,163,162,161,160,158,157,155,155,155,154,152,152,151,145,144,143,138,136,132,132,132,131,131,129,129,127,125,124,124,123,120,118,116,116,115,114,113,108,106,106,105,104,101,99,99,94,92,92,90,90,89,83,82,80,78,75,75,74,69,67,67,65,60,59,54,51,48],\"xaxis\":\"x\",\"y\":[\"Waterfront Communities-The Island\",\"Church-Yonge Corridor\",\"West Humber-Clairville\",\"Moss Park\",\"Bay Street Corridor\",\"Downsview-Roding-CFB\",\"York University Heights\",\"Annex\",\"Kensington-Chinatown\",\"Islington-City Centre West\",\"Woburn\",\"NSA\",\"West Hill\",\"Mimico\",\"Glenfield-Jane Heights\",\"South Riverdale\",\"Dovercourt-Wallace Emerson-Junction\",\"Wexford/Maryvale\",\"Niagara\",\"Willowdale East\",\"Bendale\",\"Clairlea-Birchmount\",\"South Parkdale\",\"Yorkdale-Glen Park\",\"Newtonbrook West\",\"Mount Pleasant West\",\"Mount Olive-Silverstone-Jamestown\",\"Malvern\",\"North St.James Town\",\"Rouge\",\"Humber Summit\",\"Black Creek\",\"East End-Danforth\",\"Rosedale-Moore Park\",\"Weston\",\"Kennedy Park\",\"LAmoreaux\",\"Oakridge\",\"Agincourt South-Malvern West\",\"Parkwoods-Donalda\",\"Milliken\",\"Eglinton East\",\"Dorset Park\",\"Rockcliffe-Smythe\",\"Regent Park\",\"Humbermede\",\"Clanton Park\",\"Birchcliffe-Cliffside\",\"Trinity-Bellwoods\",\"Kingsview Village-The Westway\",\"Don Valley Village\",\"Tam OShanter-Sullivan\",\"Cabbagetown-South St.James Town\",\"Brookhaven-Amesbury\",\"OConnor-Parkview\",\"Roncesvalles\",\"Stonegate-Queensway\",\"Westminster-Branson\",\"Junction Area\",\"The Beaches\",\"Bedford Park-Nortown\",\"Thorncliffe Park\",\"Scarborough Village\",\"Lansing-Westgate\",\"Danforth\",\"Leaside-Bennington\",\"Oakwood Village\",\"Corso Italia-Davenport\",\"Flemingdon Park\",\"High Park North\",\"Victoria Village\",\"Greenwood-Coxwell\",\"Willowdale West\",\"Taylor-Massey\",\"Newtonbrook East\",\"New Toronto\",\"Little Portugal\",\"Henry Farm\",\"Cliffcrest\",\"Briar Hill-Belgravia\",\"Long Branch\",\"University\",\"St.Andrew-Windfields\",\"Englemount-Lawrence\",\"Bayview Village\",\"Banbury-Don Mills\",\"Mount Dennis\",\"High Park-Swansea\",\"Willowridge-Martingrove-Richview\",\"Pelmo Park-Humberlea\",\"Agincourt North\",\"Dufferin Grove\",\"Mount Pleasant East\",\"Lawrence Park South\",\"Weston-Pellam Park\",\"Morningside\",\"Rexdale-Kipling\",\"Woodbine Corridor\",\"Elms-Old Rexdale\",\"Keelesdale-Eglinton West\",\"Yonge-Eglinton\",\"Eringate-Centennial-West Deane\",\"Bathurst Manor\",\"Playter Estates-Danforth\",\"Ionview\",\"Steeles\",\"Hillcrest Village\",\"Palmerston-Little Italy\",\"Forest Hill South\",\"Thistletown-Beaumond Heights\",\"Lawrence Park North\",\"Wychwood\",\"Danforth East York\",\"Bridle Path-Sunnybrook-York Mills\",\"North Riverdale\",\"Humewood-Cedarvale\",\"Yonge-St.Clair\",\"Casa Loma\",\"Rustic\",\"Beechborough-Greenbrook\",\"Broadview North\",\"Blake-Jones\",\"Kingsway South\",\"Forest Hill North\",\"Caledonia-Fairbank\",\"Alderwood\",\"Old East York\",\"Edenbridge-Humber Valley\",\"Etobicoke West Mall\",\"Highland Creek\",\"Humber Heights-Westmount\",\"Runnymede-Bloor West Village\",\"Bayview Woods-Steeles\",\"Centennial Scarborough\",\"Pleasant View\",\"Markland Wood\",\"Maple Leaf\",\"Princess-Rosethorn\",\"Guildwood\",\"Lambton Baby Point\",\"Woodbine-Lumsden\"],\"yaxis\":\"y\",\"type\":\"bar\",\"texttemplate\":\"%{x:,}\"}],                        {\"template\":{\"data\":{\"bar\":[{\"error_x\":{\"color\":\"#2a3f5f\"},\"error_y\":{\"color\":\"#2a3f5f\"},\"marker\":{\"line\":{\"color\":\"#E5ECF6\",\"width\":0.5},\"pattern\":{\"fillmode\":\"overlay\",\"size\":10,\"solidity\":0.2}},\"type\":\"bar\"}],\"barpolar\":[{\"marker\":{\"line\":{\"color\":\"#E5ECF6\",\"width\":0.5},\"pattern\":{\"fillmode\":\"overlay\",\"size\":10,\"solidity\":0.2}},\"type\":\"barpolar\"}],\"carpet\":[{\"aaxis\":{\"endlinecolor\":\"#2a3f5f\",\"gridcolor\":\"white\",\"linecolor\":\"white\",\"minorgridcolor\":\"white\",\"startlinecolor\":\"#2a3f5f\"},\"baxis\":{\"endlinecolor\":\"#2a3f5f\",\"gridcolor\":\"white\",\"linecolor\":\"white\",\"minorgridcolor\":\"white\",\"startlinecolor\":\"#2a3f5f\"},\"type\":\"carpet\"}],\"choropleth\":[{\"colorbar\":{\"outlinewidth\":0,\"ticks\":\"\"},\"type\":\"choropleth\"}],\"contour\":[{\"colorbar\":{\"outlinewidth\":0,\"ticks\":\"\"},\"colorscale\":[[0.0,\"#0d0887\"],[0.1111111111111111,\"#46039f\"],[0.2222222222222222,\"#7201a8\"],[0.3333333333333333,\"#9c179e\"],[0.4444444444444444,\"#bd3786\"],[0.5555555555555556,\"#d8576b\"],[0.6666666666666666,\"#ed7953\"],[0.7777777777777778,\"#fb9f3a\"],[0.8888888888888888,\"#fdca26\"],[1.0,\"#f0f921\"]],\"type\":\"contour\"}],\"contourcarpet\":[{\"colorbar\":{\"outlinewidth\":0,\"ticks\":\"\"},\"type\":\"contourcarpet\"}],\"heatmap\":[{\"colorbar\":{\"outlinewidth\":0,\"ticks\":\"\"},\"colorscale\":[[0.0,\"#0d0887\"],[0.1111111111111111,\"#46039f\"],[0.2222222222222222,\"#7201a8\"],[0.3333333333333333,\"#9c179e\"],[0.4444444444444444,\"#bd3786\"],[0.5555555555555556,\"#d8576b\"],[0.6666666666666666,\"#ed7953\"],[0.7777777777777778,\"#fb9f3a\"],[0.8888888888888888,\"#fdca26\"],[1.0,\"#f0f921\"]],\"type\":\"heatmap\"}],\"heatmapgl\":[{\"colorbar\":{\"outlinewidth\":0,\"ticks\":\"\"},\"colorscale\":[[0.0,\"#0d0887\"],[0.1111111111111111,\"#46039f\"],[0.2222222222222222,\"#7201a8\"],[0.3333333333333333,\"#9c179e\"],[0.4444444444444444,\"#bd3786\"],[0.5555555555555556,\"#d8576b\"],[0.6666666666666666,\"#ed7953\"],[0.7777777777777778,\"#fb9f3a\"],[0.8888888888888888,\"#fdca26\"],[1.0,\"#f0f921\"]],\"type\":\"heatmapgl\"}],\"histogram\":[{\"marker\":{\"pattern\":{\"fillmode\":\"overlay\",\"size\":10,\"solidity\":0.2}},\"type\":\"histogram\"}],\"histogram2d\":[{\"colorbar\":{\"outlinewidth\":0,\"ticks\":\"\"},\"colorscale\":[[0.0,\"#0d0887\"],[0.1111111111111111,\"#46039f\"],[0.2222222222222222,\"#7201a8\"],[0.3333333333333333,\"#9c179e\"],[0.4444444444444444,\"#bd3786\"],[0.5555555555555556,\"#d8576b\"],[0.6666666666666666,\"#ed7953\"],[0.7777777777777778,\"#fb9f3a\"],[0.8888888888888888,\"#fdca26\"],[1.0,\"#f0f921\"]],\"type\":\"histogram2d\"}],\"histogram2dcontour\":[{\"colorbar\":{\"outlinewidth\":0,\"ticks\":\"\"},\"colorscale\":[[0.0,\"#0d0887\"],[0.1111111111111111,\"#46039f\"],[0.2222222222222222,\"#7201a8\"],[0.3333333333333333,\"#9c179e\"],[0.4444444444444444,\"#bd3786\"],[0.5555555555555556,\"#d8576b\"],[0.6666666666666666,\"#ed7953\"],[0.7777777777777778,\"#fb9f3a\"],[0.8888888888888888,\"#fdca26\"],[1.0,\"#f0f921\"]],\"type\":\"histogram2dcontour\"}],\"mesh3d\":[{\"colorbar\":{\"outlinewidth\":0,\"ticks\":\"\"},\"type\":\"mesh3d\"}],\"parcoords\":[{\"line\":{\"colorbar\":{\"outlinewidth\":0,\"ticks\":\"\"}},\"type\":\"parcoords\"}],\"pie\":[{\"automargin\":true,\"type\":\"pie\"}],\"scatter\":[{\"marker\":{\"colorbar\":{\"outlinewidth\":0,\"ticks\":\"\"}},\"type\":\"scatter\"}],\"scatter3d\":[{\"line\":{\"colorbar\":{\"outlinewidth\":0,\"ticks\":\"\"}},\"marker\":{\"colorbar\":{\"outlinewidth\":0,\"ticks\":\"\"}},\"type\":\"scatter3d\"}],\"scattercarpet\":[{\"marker\":{\"colorbar\":{\"outlinewidth\":0,\"ticks\":\"\"}},\"type\":\"scattercarpet\"}],\"scattergeo\":[{\"marker\":{\"colorbar\":{\"outlinewidth\":0,\"ticks\":\"\"}},\"type\":\"scattergeo\"}],\"scattergl\":[{\"marker\":{\"colorbar\":{\"outlinewidth\":0,\"ticks\":\"\"}},\"type\":\"scattergl\"}],\"scattermapbox\":[{\"marker\":{\"colorbar\":{\"outlinewidth\":0,\"ticks\":\"\"}},\"type\":\"scattermapbox\"}],\"scatterpolar\":[{\"marker\":{\"colorbar\":{\"outlinewidth\":0,\"ticks\":\"\"}},\"type\":\"scatterpolar\"}],\"scatterpolargl\":[{\"marker\":{\"colorbar\":{\"outlinewidth\":0,\"ticks\":\"\"}},\"type\":\"scatterpolargl\"}],\"scatterternary\":[{\"marker\":{\"colorbar\":{\"outlinewidth\":0,\"ticks\":\"\"}},\"type\":\"scatterternary\"}],\"surface\":[{\"colorbar\":{\"outlinewidth\":0,\"ticks\":\"\"},\"colorscale\":[[0.0,\"#0d0887\"],[0.1111111111111111,\"#46039f\"],[0.2222222222222222,\"#7201a8\"],[0.3333333333333333,\"#9c179e\"],[0.4444444444444444,\"#bd3786\"],[0.5555555555555556,\"#d8576b\"],[0.6666666666666666,\"#ed7953\"],[0.7777777777777778,\"#fb9f3a\"],[0.8888888888888888,\"#fdca26\"],[1.0,\"#f0f921\"]],\"type\":\"surface\"}],\"table\":[{\"cells\":{\"fill\":{\"color\":\"#EBF0F8\"},\"line\":{\"color\":\"white\"}},\"header\":{\"fill\":{\"color\":\"#C8D4E3\"},\"line\":{\"color\":\"white\"}},\"type\":\"table\"}]},\"layout\":{\"annotationdefaults\":{\"arrowcolor\":\"#2a3f5f\",\"arrowhead\":0,\"arrowwidth\":1},\"autotypenumbers\":\"strict\",\"coloraxis\":{\"colorbar\":{\"outlinewidth\":0,\"ticks\":\"\"}},\"colorscale\":{\"diverging\":[[0,\"#8e0152\"],[0.1,\"#c51b7d\"],[0.2,\"#de77ae\"],[0.3,\"#f1b6da\"],[0.4,\"#fde0ef\"],[0.5,\"#f7f7f7\"],[0.6,\"#e6f5d0\"],[0.7,\"#b8e186\"],[0.8,\"#7fbc41\"],[0.9,\"#4d9221\"],[1,\"#276419\"]],\"sequential\":[[0.0,\"#0d0887\"],[0.1111111111111111,\"#46039f\"],[0.2222222222222222,\"#7201a8\"],[0.3333333333333333,\"#9c179e\"],[0.4444444444444444,\"#bd3786\"],[0.5555555555555556,\"#d8576b\"],[0.6666666666666666,\"#ed7953\"],[0.7777777777777778,\"#fb9f3a\"],[0.8888888888888888,\"#fdca26\"],[1.0,\"#f0f921\"]],\"sequentialminus\":[[0.0,\"#0d0887\"],[0.1111111111111111,\"#46039f\"],[0.2222222222222222,\"#7201a8\"],[0.3333333333333333,\"#9c179e\"],[0.4444444444444444,\"#bd3786\"],[0.5555555555555556,\"#d8576b\"],[0.6666666666666666,\"#ed7953\"],[0.7777777777777778,\"#fb9f3a\"],[0.8888888888888888,\"#fdca26\"],[1.0,\"#f0f921\"]]},\"colorway\":[\"#636efa\",\"#EF553B\",\"#00cc96\",\"#ab63fa\",\"#FFA15A\",\"#19d3f3\",\"#FF6692\",\"#B6E880\",\"#FF97FF\",\"#FECB52\"],\"font\":{\"color\":\"#2a3f5f\"},\"geo\":{\"bgcolor\":\"white\",\"lakecolor\":\"white\",\"landcolor\":\"#E5ECF6\",\"showlakes\":true,\"showland\":true,\"subunitcolor\":\"white\"},\"hoverlabel\":{\"align\":\"left\"},\"hovermode\":\"closest\",\"mapbox\":{\"style\":\"light\"},\"paper_bgcolor\":\"white\",\"plot_bgcolor\":\"#E5ECF6\",\"polar\":{\"angularaxis\":{\"gridcolor\":\"white\",\"linecolor\":\"white\",\"ticks\":\"\"},\"bgcolor\":\"#E5ECF6\",\"radialaxis\":{\"gridcolor\":\"white\",\"linecolor\":\"white\",\"ticks\":\"\"}},\"scene\":{\"xaxis\":{\"backgroundcolor\":\"#E5ECF6\",\"gridcolor\":\"white\",\"gridwidth\":2,\"linecolor\":\"white\",\"showbackground\":true,\"ticks\":\"\",\"zerolinecolor\":\"white\"},\"yaxis\":{\"backgroundcolor\":\"#E5ECF6\",\"gridcolor\":\"white\",\"gridwidth\":2,\"linecolor\":\"white\",\"showbackground\":true,\"ticks\":\"\",\"zerolinecolor\":\"white\"},\"zaxis\":{\"backgroundcolor\":\"#E5ECF6\",\"gridcolor\":\"white\",\"gridwidth\":2,\"linecolor\":\"white\",\"showbackground\":true,\"ticks\":\"\",\"zerolinecolor\":\"white\"}},\"shapedefaults\":{\"line\":{\"color\":\"#2a3f5f\"}},\"ternary\":{\"aaxis\":{\"gridcolor\":\"white\",\"linecolor\":\"white\",\"ticks\":\"\"},\"baxis\":{\"gridcolor\":\"white\",\"linecolor\":\"white\",\"ticks\":\"\"},\"bgcolor\":\"#E5ECF6\",\"caxis\":{\"gridcolor\":\"white\",\"linecolor\":\"white\",\"ticks\":\"\"}},\"title\":{\"x\":0.05},\"xaxis\":{\"automargin\":true,\"gridcolor\":\"white\",\"linecolor\":\"white\",\"ticks\":\"\",\"title\":{\"standoff\":15},\"zerolinecolor\":\"white\",\"zerolinewidth\":2},\"yaxis\":{\"automargin\":true,\"gridcolor\":\"white\",\"linecolor\":\"white\",\"ticks\":\"\",\"title\":{\"standoff\":15},\"zerolinecolor\":\"white\",\"zerolinewidth\":2}}},\"xaxis\":{\"anchor\":\"y\",\"domain\":[0.0,1.0],\"title\":{\"text\":\"Number of Crimes\"},\"tickformat\":\",d\"},\"yaxis\":{\"anchor\":\"x\",\"domain\":[0.0,1.0],\"title\":{\"text\":\"Neighbourhood\"},\"categoryorder\":\"total ascending\"},\"legend\":{\"tracegroupgap\":0},\"title\":{\"text\":\"Crime Occurrences by Neighbourhood\"},\"barmode\":\"relative\",\"bargap\":0.2,\"height\":800},                        {\"responsive\": true}                    ).then(function(){\n",
       "                            \n",
       "var gd = document.getElementById('8319516b-7088-4b2c-b16c-8bcb1ecc2802');\n",
       "var x = new MutationObserver(function (mutations, observer) {{\n",
       "        var display = window.getComputedStyle(gd).display;\n",
       "        if (!display || display === 'none') {{\n",
       "            console.log([gd, 'removed!']);\n",
       "            Plotly.purge(gd);\n",
       "            observer.disconnect();\n",
       "        }}\n",
       "}});\n",
       "\n",
       "// Listen for the removal of the full notebook cells\n",
       "var notebookContainer = gd.closest('#notebook-container');\n",
       "if (notebookContainer) {{\n",
       "    x.observe(notebookContainer, {childList: true});\n",
       "}}\n",
       "\n",
       "// Listen for the clearing of the current output cell\n",
       "var outputEl = gd.closest('.output');\n",
       "if (outputEl) {{\n",
       "    x.observe(outputEl, {childList: true});\n",
       "}}\n",
       "\n",
       "                        })                };                });            </script>        </div>"
      ]
     },
     "metadata": {},
     "output_type": "display_data"
    }
   ],
   "source": [
    "# Count the occurrences of each neighbourhood\n",
    "neighbourhood_counts = df['Neighbourhood'].value_counts().reset_index()\n",
    "neighbourhood_counts.columns = ['Neighbourhood', 'Count']\n",
    "\n",
    "# Sort the neighbourhoods by count in descending order\n",
    "neighbourhood_counts = neighbourhood_counts.sort_values(by='Count', ascending=False)\n",
    "\n",
    "# Create a bar chart\n",
    "fig = px.bar(neighbourhood_counts, x='Count', y='Neighbourhood', orientation='h', title='Crime Occurrences by Neighbourhood')\n",
    "\n",
    "# Customize the appearance\n",
    "fig.update_layout(xaxis_title='Number of Crimes', yaxis_title='Neighbourhood', yaxis_categoryorder='total ascending',\n",
    "                  xaxis_tickformat=',d', bargap=0.2)\n",
    "\n",
    "# Add data labels to the bars\n",
    "fig.update_traces(textposition='outside', texttemplate='%{x:,}')\n",
    "\n",
    "# Adjust the figure size for better readability\n",
    "fig.update_layout(height=800)\n",
    "\n",
    "# Display the bar chart\n",
    "fig.show()\n"
   ]
  },
  {
   "cell_type": "markdown",
   "id": "fd611bfb",
   "metadata": {},
   "source": [
    "Waterfront Island is the neighbourhood with the greatest crime rate in the dataset, owing to its urban setting and appeal. Beystreet in downtown and Westhill have greater crime rates, which might be attributed to their central positions and higher population concentrations. Woodsteel, Maple Leaf, and Woodbine Lumsden, on the other hand, have lower crime rates, which may be due to their residential character, lower population density, or excellent community policing. This data may help law enforcement and local communities allocate resources, avoid targeted crime, and build safer neighbourhoods via evidence-based solutions and community participation."
   ]
  },
  {
   "cell_type": "markdown",
   "id": "ca3ec5ad",
   "metadata": {},
   "source": [
    "# conclusion "
   ]
  },
  {
   "cell_type": "markdown",
   "id": "9bae3531",
   "metadata": {},
   "source": [
    "In 2021, there were 34,277 reported crimes in Toronto, with outdoor locations having the highest crime rates,\n",
    "highlighting the need for greater public safety measures. Significant occurrences occurred in the commercial and\n",
    "residential sectors, underscoring the significance of security in these locations. Assault, theft of a motor vehicle,\n",
    "and break and enter were the most prevalent offences. Waterfront Island, Beystreet, and Westhill are high-crime areas\n",
    "that need targeted enforcement, whereas Woodsteel, Maple Leaf, and Woodbine Lumsden demonstrate excellent community policing.\n",
    "This information is valuable for resource allocation and evidence-based community safety programs."
   ]
  }
 ],
 "metadata": {
  "kernelspec": {
   "display_name": "Python 3 (ipykernel)",
   "language": "python",
   "name": "python3"
  },
  "language_info": {
   "codemirror_mode": {
    "name": "ipython",
    "version": 3
   },
   "file_extension": ".py",
   "mimetype": "text/x-python",
   "name": "python",
   "nbconvert_exporter": "python",
   "pygments_lexer": "ipython3",
   "version": "3.9.12"
  }
 },
 "nbformat": 4,
 "nbformat_minor": 5
}
